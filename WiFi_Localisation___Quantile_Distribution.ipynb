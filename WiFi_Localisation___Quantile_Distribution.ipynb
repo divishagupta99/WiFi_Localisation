{
  "nbformat": 4,
  "nbformat_minor": 0,
  "metadata": {
    "colab": {
      "name": "WiFi Localisation _ Quantile Distribution.ipynb",
      "provenance": [],
      "collapsed_sections": [],
      "include_colab_link": true
    },
    "kernelspec": {
      "name": "python3",
      "display_name": "Python 3"
    }
  },
  "cells": [
    {
      "cell_type": "markdown",
      "metadata": {
        "id": "view-in-github",
        "colab_type": "text"
      },
      "source": [
        "<a href=\"https://colab.research.google.com/github/divishagupta99/WiFi_Localisation/blob/master/WiFi_Localisation___Quantile_Distribution.ipynb\" target=\"_parent\"><img src=\"https://colab.research.google.com/assets/colab-badge.svg\" alt=\"Open In Colab\"/></a>"
      ]
    },
    {
      "cell_type": "markdown",
      "metadata": {
        "id": "Sa9eypbjt5j4",
        "colab_type": "text"
      },
      "source": [
        "###Quantile Distribution Approach for RSSI WiFi Localisation\n",
        "Preprocess data.\n",
        "Define a fixed \"Locations\" array.\n"
      ]
    },
    {
      "cell_type": "code",
      "metadata": {
        "id": "BzxUvoi9_W7J",
        "colab_type": "code",
        "colab": {}
      },
      "source": [
        "import pandas as pd\n",
        "import numpy as np\n",
        "from sklearn import preprocessing\n",
        "from scipy.spatial.distance import directed_hausdorff\n",
        "import statistics\n",
        "from sklearn.preprocessing import QuantileTransformer"
      ],
      "execution_count": null,
      "outputs": []
    },
    {
      "cell_type": "code",
      "metadata": {
        "id": "Q0SdsjY9tL5Y",
        "colab_type": "code",
        "colab": {
          "base_uri": "https://localhost:8080/",
          "height": 35
        },
        "outputId": "a4f1aafe-ec8d-4c18-b846-7136dfb1b055"
      },
      "source": [
        "\n",
        "!git clone https://github.com/divishagupta99/WiFi_Localisation.git\n",
        "\n",
        "import os\n",
        "def rename(): \n",
        "  i = 0  \n",
        "  for filename in os.listdir(\"/content/WiFi_Localisation/Data Set/\"): \n",
        "    dst =str(filename).replace('-','_')\n",
        "    src ='/content/WiFi_Localisation/Data Set/'+ filename \n",
        "    dst ='/content/WiFi_Localisation/Data Set/'+ dst \n",
        "      \n",
        "    # rename() function will \n",
        "    # rename all the files \n",
        "    os.rename(src, dst) \n",
        "    i += 1\n",
        "\n",
        "rename()\n",
        "\n",
        "dataframes = []\n",
        "names = []\n",
        "def importing_df():\n",
        "  for filename in os.listdir(\"/content/WiFi_Localisation/Data Set/\"):\n",
        "    dataframes.append(pd.read_csv(\"/content/WiFi_Localisation/Data Set/\"+str(filename),header=1))\n",
        "    new_name = str(filename).replace('.csv','')\n",
        "    names.append(new_name)\n",
        "def preprocessing():\n",
        "  for i in range(len(dataframes)):\n",
        "    #df_temp = dataframes[i]\n",
        "    dataframes[i].drop(dataframes[i].loc[dataframes[i]['SSID']!= 'BPGC-NAB'].index, inplace=True)      #Considering only BPGC-NAB\n",
        "    dataframes[i].reset_index(drop = True, inplace=True)\n",
        "    for j in range(len(dataframes[i]['Strength'])):\n",
        "      dataframes[i]['Strength'][j] = str(dataframes[i]['Strength'][j]).replace('dBm', '')\n",
        "    dataframes[i]['Strength'] = dataframes[i]['Strength'].astype(int)\n",
        "    dataframes[i] = dataframes[i].drop(columns = ['Primary Frequency', 'Distance', '802.11mc', 'Security', 'Time Stamp', 'SSID'])\n",
        "\n",
        "\n",
        "\n",
        "importing_df()\n",
        "preprocessing()\n",
        "\n",
        "BSSID = []\n",
        "def unique_BSSID():\n",
        "  for i in range(len(dataframes)):\n",
        "    df_temp = dataframes[i]\n",
        "    for j in df_temp['BSSID']:\n",
        "      BSSID.append(j)\n",
        "\n",
        "unique_BSSID()\n",
        "BSSID = list(set(BSSID))\n",
        "#sorting BBSID\n",
        "BSSID.sort()\n",
        "#The orderof BSSID will remain constant "
      ],
      "execution_count": null,
      "outputs": [
        {
          "output_type": "stream",
          "text": [
            "fatal: destination path 'WiFi_Localisation' already exists and is not an empty directory.\n"
          ],
          "name": "stdout"
        }
      ]
    },
    {
      "cell_type": "code",
      "metadata": {
        "id": "7kJub07WwAQy",
        "colab_type": "code",
        "colab": {}
      },
      "source": [
        "locations = ['WG','D151', 'D153', 'D154', 'EEEG', 'StairG',\n",
        "             'D156', 'D160', 'D164', 'D168', 'D170', 'EntranceG',\n",
        "             'WF', 'EntranceF', 'D251', 'D250', 'D249', 'StairF',\n",
        "             'D267', 'D269', 'D266', 'D262', 'D258', 'D252']"
      ],
      "execution_count": null,
      "outputs": []
    },
    {
      "cell_type": "code",
      "metadata": {
        "id": "sMCaM2M1uso5",
        "colab_type": "code",
        "colab": {}
      },
      "source": [
        "def match_adjacent(original_position, predicted_position):\n",
        "  if (original_position=='WG' and (predicted_position == 'EntranceG' or predicted_position == 'D151')):\n",
        "    return True\n",
        "  elif (original_position=='D151' and (predicted_position == 'WG' or predicted_position == 'D153')):\n",
        "    return True\n",
        "  elif (original_position=='D153' and (predicted_position == 'D151' or predicted_position == 'D154')):\n",
        "    return True\n",
        "  elif (original_position=='D154' and (predicted_position == 'D153' or predicted_position == 'EEEG')):\n",
        "    return True\n",
        "  elif (original_position=='EEEG' and (predicted_position == 'D154' or predicted_position == 'StairG')):\n",
        "    return True\n",
        "  elif (original_position=='StairG' and (predicted_position == 'EEEG' or predicted_position == 'D156')):\n",
        "    return True\n",
        "  elif (original_position=='D156' and (predicted_position == 'StairG' or predicted_position == 'D160')):\n",
        "    return True\n",
        "  elif (original_position=='D160' and (predicted_position == 'D156' or predicted_position == 'D164')):\n",
        "    return True\n",
        "  elif (original_position=='D164' and (predicted_position == 'D160' or predicted_position == 'D168')):\n",
        "    return True\n",
        "  elif (original_position=='D168' and (predicted_position == 'D164' or predicted_position == 'D170')):\n",
        "    return True\n",
        "  elif (original_position=='D170' and (predicted_position == 'D168' or predicted_position == 'EntranceG')):\n",
        "    return True\n",
        "  elif (original_position=='EntranceG' and (predicted_position == 'D170' or predicted_position == 'WG')):\n",
        "    return True\n",
        "\n",
        "  elif (original_position=='EntranceF' and (predicted_position == 'WF' or predicted_position == 'D252')):\n",
        "    return True\n",
        "  elif (original_position=='WF' and (predicted_position == 'EntranceF' or predicted_position == 'D251')):\n",
        "    return True\n",
        "  elif (original_position=='D251' and (predicted_position == 'WF' or predicted_position == 'D250')):\n",
        "    return True\n",
        "  elif (original_position=='D250' and (predicted_position == 'D251' or predicted_position == 'D249')):\n",
        "    return True\n",
        "  elif (original_position=='D249' and (predicted_position == 'D250' or predicted_position == 'StairF')):\n",
        "    return True\n",
        "  elif (original_position=='StairF' and (predicted_position == 'D249' or predicted_position == 'D267')):\n",
        "    return True\n",
        "  elif (original_position=='D267' and (predicted_position == 'StairF' or predicted_position == 'D269' or predicted_position == 'D266')):\n",
        "    return True\n",
        "  elif (original_position=='D269' and (predicted_position == 'D267' or predicted_position == 'D266')):\n",
        "    return True\n",
        "  elif (original_position=='D266' and (predicted_position == 'D267' or predicted_position == 'D269' or predicted_position == 'D262')):\n",
        "    return True\n",
        "  elif (original_position=='D262' and (predicted_position == 'D266' or predicted_position == 'D258')):\n",
        "    return True\n",
        "  elif (original_position=='D258' and (predicted_position == 'D262' or predicted_position == 'D252')):\n",
        "    return True\n",
        "  elif (original_position=='D252' and (predicted_position == 'D258' or predicted_position == 'EntranceF')):\n",
        "    return True\n",
        "    \n",
        "  else:\n",
        "    return False\n"
      ],
      "execution_count": null,
      "outputs": []
    },
    {
      "cell_type": "markdown",
      "metadata": {
        "id": "UWNeFU1UwFbV",
        "colab_type": "text"
      },
      "source": [
        "### Quantile Fingerprint Generation: List of 2D Fingerprints, each for a particular location. Each fingerprint has rows corresponding to an AP and columns as multiple values."
      ]
    },
    {
      "cell_type": "markdown",
      "metadata": {
        "id": "1_1Yi9Qe4TX-",
        "colab_type": "text"
      },
      "source": [
        "### For 30 Quantiles - Without Normalisation"
      ]
    },
    {
      "cell_type": "code",
      "metadata": {
        "id": "7c9YU-Z2ven_",
        "colab_type": "code",
        "colab": {
          "base_uri": "https://localhost:8080/",
          "height": 35
        },
        "outputId": "5380978a-4739-4642-fedf-5a0b3a06c520"
      },
      "source": [
        "dataframes_30 = dataframes.copy()\n",
        "Q = []  #3D array - 2D Fingerprint Quantile for each 24 locations. Rows sorted by BSSID. Columns no need to sort.\n",
        "def ThreeD(a, b, c): \n",
        "    lst = [[ ['#' for col in range(a)] for col in range(b)] for row in range(c)] \n",
        "    return lst  \n",
        "col1 = 30\n",
        "col2 = 32\n",
        "row = 24 \n",
        "Q_train = (ThreeD(col1, col2, row*2)) #48 rows in train\n",
        "Q_test = (ThreeD(col1, col2, row)) \n",
        "\n",
        "print(len(Q_train[0][0]))"
      ],
      "execution_count": null,
      "outputs": [
        {
          "output_type": "stream",
          "text": [
            "30\n"
          ],
          "name": "stdout"
        }
      ]
    },
    {
      "cell_type": "code",
      "metadata": {
        "id": "Ki8EigGRwpMr",
        "colab_type": "code",
        "colab": {
          "base_uri": "https://localhost:8080/",
          "height": 55
        },
        "outputId": "c8310954-6d6a-4750-adb6-80ba340c6a76"
      },
      "source": [
        "#Filling y_train: As quantiles are arranged location wise, y_train are also sorted location-wise 2 times : once for _1 and another for _4\n",
        "y_train = [0 for col in range(48)]\n",
        "for i in range(24):\n",
        "  y_train[i] = locations[i]\n",
        "  y_train[i+24]=locations[i]\n",
        "\n",
        "print(y_train)"
      ],
      "execution_count": null,
      "outputs": [
        {
          "output_type": "stream",
          "text": [
            "['WG', 'D151', 'D153', 'D154', 'EEEG', 'StairG', 'D156', 'D160', 'D164', 'D168', 'D170', 'EntranceG', 'WF', 'EntranceF', 'D251', 'D250', 'D249', 'StairF', 'D267', 'D269', 'D266', 'D262', 'D258', 'D252', 'WG', 'D151', 'D153', 'D154', 'EEEG', 'StairG', 'D156', 'D160', 'D164', 'D168', 'D170', 'EntranceG', 'WF', 'EntranceF', 'D251', 'D250', 'D249', 'StairF', 'D267', 'D269', 'D266', 'D262', 'D258', 'D252']\n"
          ],
          "name": "stdout"
        }
      ]
    },
    {
      "cell_type": "code",
      "metadata": {
        "id": "Iv5irQPEwtc9",
        "colab_type": "code",
        "colab": {}
      },
      "source": [
        "\n",
        "# Datasets _1, _4 are for training. _2 will be used for testing\n",
        "#STEP 1: TRAINING\n",
        "for i in range(len(dataframes_30)):\n",
        "  if not(names[i][-2:]=='_4' ):\n",
        "    continue  #because _4 is for training\n",
        "  loc_name = names[i][:-2]  #take the position name\n",
        "  dataframes_30[i].sort_values(\"Strength\", ascending=False, inplace=True)\n",
        "  dataframes_30[i].reset_index(drop=True, inplace=True)\n",
        "  for j in range(len(dataframes_30[i])):\n",
        "    bssid = dataframes_30[i].loc[j,'BSSID']  #take MAC\n",
        "    bssid_index = BSSID.index(bssid) #find its index (to access in Q matrix)\n",
        "    #add element j[1] to Q\n",
        "    for k in range(len(Q_train[locations.index(loc_name)][bssid_index])):\n",
        "      if (Q_train[locations.index(loc_name)][bssid_index][k]=='#'):  #empty cell - add RSSI\n",
        "        Q_train[locations.index(loc_name)][bssid_index][k]= dataframes_30[i].loc[j,'Strength']\n",
        "        break\n",
        "\n",
        "for i in range(len(dataframes_30)):\n",
        "  if not(names[i][-2:]=='_1'):\n",
        "    continue  #because _1 is for training\n",
        "  loc_name = names[i][:-2]  #take the position name\n",
        "  dataframes_30[i].sort_values(\"Strength\", ascending=False, inplace=True)\n",
        "  dataframes_30[i].reset_index(drop=True, inplace=True)\n",
        "  for j in range(len(dataframes_30[i])):\n",
        "    bssid = dataframes_30[i].loc[j,'BSSID']  #take MAC\n",
        "    bssid_index = BSSID.index(bssid) #find its index (to access in Q matrix)\n",
        "    #add element j[1] to Q\n",
        "    for k in range(len(Q_train[locations.index(loc_name) + 24][bssid_index])):\n",
        "      if (Q_train[locations.index(loc_name) + 24][bssid_index][k]=='#'):  #empty cell - add RSSI\n",
        "        Q_train[locations.index(loc_name) + 24][bssid_index][k]= dataframes_30[i].loc[j,'Strength']\n",
        "        break\n",
        "\n",
        "for i in range(row*2):\n",
        "  loc_name = names[i][:-2]  #take the position name\n",
        "  for j in range(col2):\n",
        "    #check element for '#' and if so then repeat values to -95\n",
        "    for k in range(col1):\n",
        "      if (Q_train[i][j][k]=='#'):  #empty cell - add RSSI as -95\n",
        "        Q_train[i][j][k]= -95\n",
        "\n",
        "#STEP 2: GENERATING TEST DATASET\n",
        "\n",
        "y_test = [0 for col in range(24)]\n",
        "for i in range(24):\n",
        "  y_test[i] = locations[i]\n",
        "\n",
        "\n",
        "for i in range(len(dataframes_30)):\n",
        "  if not(names[i][-2:]=='_2'):\n",
        "    continue  #because _2 is for testing and this loop is only for testing\n",
        "  loc_name = names[i][:-2]  #take the position name\n",
        "  dataframes_30[i].sort_values(\"Strength\", ascending=False, inplace=True)\n",
        "  dataframes_30[i].reset_index(drop=True, inplace=True)\n",
        "  for j in range(len(dataframes_30[i])):\n",
        "    bssid = dataframes_30[i].loc[j,'BSSID']  #take MAC\n",
        "    bssid_index = BSSID.index(bssid) #find its index (to access in Q matrix)\n",
        "    #add element j[1] to Q\n",
        "    for k in range(len(Q_test[locations.index(loc_name)][bssid_index])):\n",
        "      if (Q_test[locations.index(loc_name)][bssid_index][k]=='#'):  #empty cell - add RSSI\n",
        "        Q_test[locations.index(loc_name)][bssid_index][k]= dataframes_30[i].loc[j,'Strength']\n",
        "        break\n",
        "\n",
        "for i in range(row):\n",
        "  loc_name = names[i][:-2]  #take the position name\n",
        "  for j in range(col2):\n",
        "    #check element for '#' and if so then repeat values to -95\n",
        "    for k in range(col1):\n",
        "      if (Q_test[i][j][k]=='#'):  #empty cell - add RSSI as -95\n",
        "        Q_test[i][j][k]= -95\n",
        "  \n"
      ],
      "execution_count": null,
      "outputs": []
    },
    {
      "cell_type": "markdown",
      "metadata": {
        "id": "UuNxusB1yWms",
        "colab_type": "text"
      },
      "source": [
        "### Quantile Fingerprint generation: Each RSSI value is converted into a quantile value. Then, use PH-distance to compare fingerprints and choose the least one."
      ]
    },
    {
      "cell_type": "code",
      "metadata": {
        "id": "TgBLcgKZxLIV",
        "colab_type": "code",
        "colab": {}
      },
      "source": [
        "numberOfQ = len(Q_train)\n",
        "quantile_transformer = QuantileTransformer(n_quantiles=30, random_state=0)\n",
        "\n",
        "Q_train_trans = Q_train.copy()\n",
        "Q_test_trans = Q_test.copy()\n",
        "\n",
        "\n",
        "for i in range(len(Q_train)):\n",
        "  Q_train_trans[i] = quantile_transformer.fit_transform(np.transpose(Q_train[i]))\n",
        "  np.transpose(Q_train[i])\n",
        "\n",
        "for i in range(len(Q_test)):\n",
        "  Q_test_trans[i] = quantile_transformer.transform(np.transpose(Q_test[i]))\n",
        "  np.transpose(Q_test[i])"
      ],
      "execution_count": null,
      "outputs": []
    },
    {
      "cell_type": "code",
      "metadata": {
        "id": "0Cozi-T5xR8g",
        "colab_type": "code",
        "colab": {}
      },
      "source": [
        "def Loc_estimation():\n",
        "  estimatedPositionArray = []\n",
        "  for i in range(len(Q_test_trans)):  #for each quantile in testing set\n",
        "    Q1 = Q_test_trans[i]\n",
        "    estimatedPosition = 0\n",
        "    reference = np.inf\n",
        "    for j in range(len(Q_train_trans)):\n",
        "      Q2 = Q_train_trans[j]\n",
        "      d = directed_hausdorff(Q1, Q2)[0] #calculates and returns PH distance\n",
        "      if d<reference:\n",
        "        reference = d\n",
        "        estimatedPosition = y_train[j]\n",
        "    estimatedPositionArray.append(estimatedPosition)\n",
        "  return estimatedPositionArray\n"
      ],
      "execution_count": null,
      "outputs": []
    },
    {
      "cell_type": "code",
      "metadata": {
        "id": "NS7Oo1l8xgHQ",
        "colab_type": "code",
        "colab": {}
      },
      "source": [
        "predictedPositions = Loc_estimation()"
      ],
      "execution_count": null,
      "outputs": []
    },
    {
      "cell_type": "code",
      "metadata": {
        "id": "QeveGc1Hxh8O",
        "colab_type": "code",
        "colab": {}
      },
      "source": [
        "def accuracy_score_PH(predicted):\n",
        "  sum_ans = 0\n",
        "  for i in range(len(predicted)):\n",
        "    if predicted[i] == y_test[i]:     #Original == Predicted exactly\n",
        "      sum_ans = sum_ans + 2\n",
        "    elif match_adjacent(predicted[i],y_test[i]): #adjacent positions with lesser weights\n",
        "      sum_ans = sum_ans + 1\n",
        "    else:\n",
        "      continue\n",
        "  return sum_ans/(2*len(predicted))\n",
        "\n",
        "def Raccuracy_score_PH(predicted):\n",
        "  sum_ans = 0\n",
        "  for i in range(len(predicted)):\n",
        "    if predicted[i] == y_test[i]:     #Original == Predicted exactly\n",
        "      sum_ans = sum_ans + 2\n",
        "    else:\n",
        "      continue\n",
        "  return sum_ans/(2*len(predicted))"
      ],
      "execution_count": null,
      "outputs": []
    },
    {
      "cell_type": "code",
      "metadata": {
        "id": "UlczeXGmxlzl",
        "colab_type": "code",
        "colab": {
          "base_uri": "https://localhost:8080/",
          "height": 444
        },
        "outputId": "912d3a18-a050-495f-b52b-3735dd3b7605"
      },
      "source": [
        "for i in range(len(y_test)):\n",
        "  print(y_test[i] + \" , \" + predictedPositions[i])\n",
        "  "
      ],
      "execution_count": null,
      "outputs": [
        {
          "output_type": "stream",
          "text": [
            "WG , WF\n",
            "D151 , EntranceG\n",
            "D153 , D153\n",
            "D154 , StairG\n",
            "EEEG , StairG\n",
            "StairG , StairG\n",
            "D156 , D160\n",
            "D160 , D160\n",
            "D164 , D160\n",
            "D168 , D164\n",
            "D170 , D170\n",
            "EntranceG , EntranceG\n",
            "WF , D251\n",
            "EntranceF , EntranceG\n",
            "D251 , D251\n",
            "D250 , D250\n",
            "D249 , StairG\n",
            "StairF , EEEG\n",
            "D267 , D267\n",
            "D269 , D269\n",
            "D266 , D267\n",
            "D262 , D258\n",
            "D258 , D258\n",
            "D252 , D258\n"
          ],
          "name": "stdout"
        }
      ]
    },
    {
      "cell_type": "code",
      "metadata": {
        "id": "PWbC_oG9xwWG",
        "colab_type": "code",
        "colab": {
          "base_uri": "https://localhost:8080/",
          "height": 52
        },
        "outputId": "8483766d-4573-40a7-d215-137d2e4b2156"
      },
      "source": [
        "## Without normalisation\n",
        "print(accuracy_score_PH(predictedPositions))\n",
        "print(Raccuracy_score_PH(predictedPositions))"
      ],
      "execution_count": null,
      "outputs": [
        {
          "output_type": "stream",
          "text": [
            "0.5833333333333334\n",
            "0.4166666666666667\n"
          ],
          "name": "stdout"
        }
      ]
    },
    {
      "cell_type": "markdown",
      "metadata": {
        "id": "rWoF4lvRW-TF",
        "colab_type": "text"
      },
      "source": [
        "###Quantile Transformation with Normalised Values and number of quantiles = 30"
      ]
    },
    {
      "cell_type": "code",
      "metadata": {
        "id": "u7hGDaFPW9yn",
        "colab_type": "code",
        "colab": {
          "base_uri": "https://localhost:8080/",
          "height": 35
        },
        "outputId": "2d2af015-193c-48ea-f7c9-c504e50c6182"
      },
      "source": [
        "dataframes_30 = dataframes.copy()\n",
        "\n",
        "##Normalization: \n",
        "rssi_1=[]\n",
        "rssi_2=[]\n",
        "rssi_4=[]\n",
        "\n",
        "def normalise_dataframe_30():\n",
        "  for i in range(len(dataframes_30)):\n",
        "    if names[i][-2:]=='_3':\n",
        "      continue  #Not considering this device due to avoid Android Throttling consequences\n",
        "    for j in range(len(dataframes_30[i])):\n",
        "      if names[i][-2:]=='_1':\n",
        "        rssi_1.append(dataframes_30[i].loc[j,'Strength'])\n",
        "      if names[i][-2:]=='_2':\n",
        "        rssi_2.append(dataframes_30[i].loc[j,'Strength'])\n",
        "      if names[i][-2:]=='_4':\n",
        "        rssi_4.append(dataframes_30[i].loc[j,'Strength'])\n",
        "  mean_1=statistics.mean(rssi_1)\n",
        "  mean_2=statistics.mean(rssi_2)\n",
        "  mean_4=statistics.mean(rssi_4)\n",
        "  stddev_1 = statistics.stdev (rssi_1)\n",
        "  stddev_2 = statistics.stdev(rssi_2)\n",
        "  stddev_4 = statistics.stdev(rssi_4)\n",
        "  print(mean_1, mean_2, mean_4, stddev_1, stddev_2, stddev_4)\n",
        "  for i in range(len(dataframes_30)):\n",
        "    for j in range(len(dataframes_30[i])):\n",
        "      #print(\"Reached\" + str(j))\n",
        "      if names[i][-2:]=='_1':\n",
        "        dataframes_30[i].loc[j,'Strength'] = ((dataframes_30[i].loc[j,'Strength'] - mean_1 )/(stddev_1) )\n",
        "      if names[i][-2:]=='_2':\n",
        "        dataframes_30[i].loc[j,'Strength'] = ((dataframes_30[i].loc[j,'Strength'] - mean_2 )/(stddev_2) )\n",
        "      if names[i][-2:]=='_4':\n",
        "        dataframes_30[i].loc[j,'Strength'] = ((dataframes_30[i].loc[j,'Strength'] - mean_4 )/(stddev_4) )\n",
        "\n",
        "normalise_dataframe_30()\n",
        "\n",
        "Q = []  #3D array - 2D Fingerprint Quantile for each 24 locations. Rows sorted by BSSID. Columns no need to sort.\n",
        "def ThreeD(a, b, c): \n",
        "    lst = [[ ['#' for col in range(a)] for col in range(b)] for row in range(c)] \n",
        "    return lst  \n",
        "col1 = 30\n",
        "col2 = 32\n",
        "row = 24 \n",
        "Q_train = (ThreeD(col1, col2, row*2)) #48 rows in train\n",
        "Q_test = (ThreeD(col1, col2, row)) \n",
        "#Filling y_train: As quantiles are arranged location wise, y_train are also sorted location-wise 2 times : once for _1 and another for _4\n",
        "y_train = [0 for col in range(48)]\n",
        "for i in range(24):\n",
        "  y_train[i] = locations[i]\n",
        "  y_train[i+24]=locations[i]\n",
        "\n",
        "# Datasets _1, _4 are for training. _2 will be used for testing\n",
        "#STEP 1: TRAINING\n",
        "for i in range(len(dataframes_30)):\n",
        "  if not(names[i][-2:]=='_4' ):\n",
        "    continue  #because _4 is for training\n",
        "  loc_name = names[i][:-2]  #take the position name\n",
        "  dataframes_30[i].sort_values(\"Strength\", ascending=False, inplace=True)\n",
        "  dataframes_30[i].reset_index(drop=True, inplace=True)\n",
        "  for j in range(len(dataframes_30[i])):\n",
        "    bssid = dataframes_30[i].loc[j,'BSSID']  #take MAC\n",
        "    bssid_index = BSSID.index(bssid) #find its index (to access in Q matrix)\n",
        "    #add element j[1] to Q\n",
        "    for k in range(len(Q_train[locations.index(loc_name)][bssid_index])):\n",
        "      if (Q_train[locations.index(loc_name)][bssid_index][k]=='#'):  #empty cell - add RSSI\n",
        "        Q_train[locations.index(loc_name)][bssid_index][k]= dataframes_30[i].loc[j,'Strength']\n",
        "        break\n",
        "\n",
        "for i in range(len(dataframes_30)):\n",
        "  if not(names[i][-2:]=='_1'):\n",
        "    continue  #because _1 is for training\n",
        "  loc_name = names[i][:-2]  #take the position name\n",
        "  dataframes_30[i].sort_values(\"Strength\", ascending=False, inplace=True)\n",
        "  dataframes_30[i].reset_index(drop=True, inplace=True)\n",
        "  for j in range(len(dataframes_30[i])):\n",
        "    bssid = dataframes_30[i].loc[j,'BSSID']  #take MAC\n",
        "    bssid_index = BSSID.index(bssid) #find its index (to access in Q matrix)\n",
        "    #add element j[1] to Q\n",
        "    for k in range(len(Q_train[locations.index(loc_name) + 24][bssid_index])):\n",
        "      if (Q_train[locations.index(loc_name) + 24][bssid_index][k]=='#'):  #empty cell - add RSSI\n",
        "        Q_train[locations.index(loc_name) + 24][bssid_index][k]= dataframes_30[i].loc[j,'Strength']\n",
        "        break\n",
        "\n",
        "for i in range(row*2):\n",
        "  loc_name = names[i][:-2]  #take the position name\n",
        "  for j in range(col2):\n",
        "    #check element for '#' and if so then repeat values to -95\n",
        "    for k in range(col1):\n",
        "      if (Q_train[i][j][k]=='#'):  #empty cell - add RSSI as -95\n",
        "        Q_train[i][j][k]= -2\n",
        "\n",
        "#STEP 2: GENERATING TEST DATASET\n",
        "\n",
        "y_test = [0 for col in range(24)]\n",
        "for i in range(24):\n",
        "  y_test[i] = locations[i]\n",
        "\n",
        "\n",
        "for i in range(len(dataframes_30)):\n",
        "  if not(names[i][-2:]=='_2'):\n",
        "    continue  #because _2 is for testing and this loop is only for testing\n",
        "  loc_name = names[i][:-2]  #take the position name\n",
        "  dataframes_30[i].sort_values(\"Strength\", ascending=False, inplace=True)\n",
        "  dataframes_30[i].reset_index(drop=True, inplace=True)\n",
        "  for j in range(len(dataframes_30[i])):\n",
        "    bssid = dataframes_30[i].loc[j,'BSSID']  #take MAC\n",
        "    bssid_index = BSSID.index(bssid) #find its index (to access in Q matrix)\n",
        "    #add element j[1] to Q\n",
        "    for k in range(len(Q_test[locations.index(loc_name)][bssid_index])):\n",
        "      if (Q_test[locations.index(loc_name)][bssid_index][k]=='#'):  #empty cell - add RSSI\n",
        "        Q_test[locations.index(loc_name)][bssid_index][k]= dataframes_30[i].loc[j,'Strength']\n",
        "        break\n",
        "\n",
        "for i in range(row):\n",
        "  loc_name = names[i][:-2]  #take the position name\n",
        "  for j in range(col2):\n",
        "    #check element for '#' and if so then repeat values to -95\n",
        "    for k in range(col1):\n",
        "      if (Q_test[i][j][k]=='#'):  #empty cell - add RSSI as -95\n",
        "        Q_test[i][j][k]= -2\n",
        "  \n",
        "numberOfQ = len(Q_train)\n",
        "quantile_transformer = QuantileTransformer(n_quantiles=30, random_state=0)\n",
        "\n",
        "Q_train_trans = Q_train.copy()\n",
        "Q_test_trans = Q_test.copy()\n",
        "\n",
        "\n",
        "for i in range(len(Q_train)):\n",
        "  Q_train_trans[i] = quantile_transformer.fit_transform(np.transpose(Q_train[i]))\n",
        "  np.transpose(Q_train[i])\n",
        "\n",
        "for i in range(len(Q_test)):\n",
        "  Q_test_trans[i] = quantile_transformer.transform(np.transpose(Q_test[i]))\n",
        "  np.transpose(Q_test[i])"
      ],
      "execution_count": null,
      "outputs": [
        {
          "output_type": "stream",
          "text": [
            "-74 -66 -64 9.591663046625438 12.288205727444508 11.789826122551595\n"
          ],
          "name": "stdout"
        }
      ]
    },
    {
      "cell_type": "code",
      "metadata": {
        "id": "Q3fip4zxYWqc",
        "colab_type": "code",
        "colab": {
          "base_uri": "https://localhost:8080/",
          "height": 444
        },
        "outputId": "8155291f-3f0c-42de-fb76-a99ecd03d4a7"
      },
      "source": [
        "predicted_Positions = Loc_estimation()\n",
        "for i in range(len(y_test)):\n",
        "  print(y_test[i] + \" , \" + predictedPositions[i])\n",
        "  "
      ],
      "execution_count": null,
      "outputs": [
        {
          "output_type": "stream",
          "text": [
            "WG , WF\n",
            "D151 , EntranceG\n",
            "D153 , D153\n",
            "D154 , StairG\n",
            "EEEG , StairG\n",
            "StairG , StairG\n",
            "D156 , D160\n",
            "D160 , D160\n",
            "D164 , D160\n",
            "D168 , D164\n",
            "D170 , D170\n",
            "EntranceG , EntranceG\n",
            "WF , D251\n",
            "EntranceF , EntranceG\n",
            "D251 , D251\n",
            "D250 , D250\n",
            "D249 , StairG\n",
            "StairF , EEEG\n",
            "D267 , D267\n",
            "D269 , D269\n",
            "D266 , D267\n",
            "D262 , D258\n",
            "D258 , D258\n",
            "D252 , D258\n"
          ],
          "name": "stdout"
        }
      ]
    },
    {
      "cell_type": "code",
      "metadata": {
        "id": "yS_jcx50YqPb",
        "colab_type": "code",
        "colab": {
          "base_uri": "https://localhost:8080/",
          "height": 52
        },
        "outputId": "5b435de8-faae-447f-8326-165cc67679a1"
      },
      "source": [
        "print(accuracy_score_PH(predicted_Positions))\n",
        "print(Raccuracy_score_PH(predicted_Positions))"
      ],
      "execution_count": null,
      "outputs": [
        {
          "output_type": "stream",
          "text": [
            "0.5833333333333334\n",
            "0.4166666666666667\n"
          ],
          "name": "stdout"
        }
      ]
    },
    {
      "cell_type": "markdown",
      "metadata": {
        "id": "0AGf_tu8yHfb",
        "colab_type": "text"
      },
      "source": [
        "###Quantile Distribution and PH Distance using Normalized Values and number of Quantiles = 60"
      ]
    },
    {
      "cell_type": "code",
      "metadata": {
        "id": "MRloj2_nG98C",
        "colab_type": "code",
        "colab": {}
      },
      "source": [
        "from sklearn.preprocessing import QuantileTransformer"
      ],
      "execution_count": null,
      "outputs": []
    },
    {
      "cell_type": "code",
      "metadata": {
        "id": "0mhZywlEx2aM",
        "colab_type": "code",
        "colab": {
          "base_uri": "https://localhost:8080/",
          "height": 35
        },
        "outputId": "a3301be9-f727-45e0-958f-509e7c42d629"
      },
      "source": [
        "#dataframes_60 = dataframes.copy()\n",
        "rssi_1 = []\n",
        "rssi_2 =[]\n",
        "rssi_4 = []\n",
        "\n",
        "def normalise_dataframe_60():\n",
        "  for i in range(len(dataframes_60)):\n",
        "    if names[i][-2:]=='_3':\n",
        "      continue  #Not considering this device due to avoid Android Throttling consequences\n",
        "    for j in range(len(dataframes_60[i])):\n",
        "      if names[i][-2:]=='_1':\n",
        "        rssi_1.append(dataframes_60[i].loc[j,'Strength'])\n",
        "      if names[i][-2:]=='_2':\n",
        "        rssi_2.append(dataframes_60[i].loc[j,'Strength'])\n",
        "      if names[i][-2:]=='_4':\n",
        "        rssi_4.append(dataframes_60[i].loc[j,'Strength'])\n",
        "  mean_1=statistics.mean(rssi_1)\n",
        "  mean_2=statistics.mean(rssi_2)\n",
        "  mean_4=statistics.mean(rssi_4)\n",
        "  stddev_1 = statistics.stdev (rssi_1)\n",
        "  stddev_2 = statistics.stdev(rssi_2)\n",
        "  stddev_4 = statistics.stdev(rssi_4)\n",
        "  print(mean_1, mean_2, mean_4, stddev_1, stddev_2, stddev_4)\n",
        "  for i in range(len(dataframes_60)):\n",
        "    for j in range(len(dataframes_60[i])):\n",
        "      #print(\"Reached\" + str(j))\n",
        "      if names[i][-2:]=='_1':\n",
        "        dataframes_60[i].loc[j,'Strength'] = ((dataframes_60[i].loc[j,'Strength'] - mean_1 )/(stddev_1) )\n",
        "      if names[i][-2:]=='_2':\n",
        "        dataframes_60[i].loc[j,'Strength'] = ((dataframes_60[i].loc[j,'Strength'] - mean_2 )/(stddev_2) )\n",
        "      if names[i][-2:]=='_4':\n",
        "        dataframes_60[i].loc[j,'Strength'] = ((dataframes_60[i].loc[j,'Strength'] - mean_4 )/(stddev_4) )\n",
        "\n",
        "normalise_dataframe_60()"
      ],
      "execution_count": null,
      "outputs": [
        {
          "output_type": "stream",
          "text": [
            "-1.100348651242953e-17 -6.886348817702079e-18 2.9293299910202487e-18 1.0 1.0 1.0000417847666687\n"
          ],
          "name": "stdout"
        }
      ]
    },
    {
      "cell_type": "code",
      "metadata": {
        "id": "gdaw1WTYzOlB",
        "colab_type": "code",
        "colab": {
          "base_uri": "https://localhost:8080/",
          "height": 141
        },
        "outputId": "8d3614d8-2b11-4d6e-8f94-cf9f16d7cf2e"
      },
      "source": [
        "Q = []  #3D array - 2D Fingerprint Quantile for each 24 locations. Rows sorted by BSSID. Columns no need to sort.\n",
        "def ThreeD(a, b, c): \n",
        "    lst = [[ ['#' for col in range(a)] for col in range(b)] for row in range(c)] \n",
        "    return lst  \n",
        "col1 = 60\n",
        "col2 = 32\n",
        "row = 24 \n",
        "Q_train = (ThreeD(col1, col2, row*2)) #48 rows in train\n",
        "Q_test = (ThreeD(col1, col2, row)) \n",
        "\n",
        "y_train = [0 for col in range(48)]\n",
        "for i in range(24):\n",
        "  y_train[i] = locations[i]\n",
        "  y_train[i+24]=locations[i]\n",
        "\n",
        "\n",
        "\n",
        "# Datasets _1, _4 are for training. _2 will be used for testing\n",
        "#STEP 1: TRAINING\n",
        "for i in range(len(dataframes_60)):\n",
        "  if not(names[i][-2:]=='_4' ):\n",
        "    continue  #because _4 is for training\n",
        "  loc_name = names[i][:-2]  #take the position name\n",
        "  dataframes_60[i].sort_values(\"Strength\", ascending=False, inplace=True)\n",
        "  dataframes_60[i].reset_index(drop=True, inplace=True)\n",
        "  for j in range(len(dataframes[i])):\n",
        "    bssid = dataframes_60[i].loc[j,'BSSID']  #take MAC\n",
        "    bssid_index = BSSID.index(bssid) #find its index (to access in Q matrix)\n",
        "    #add element j[1] to Q\n",
        "    for k in range(len(Q_train[locations.index(loc_name)][bssid_index])):\n",
        "      if (Q_train[locations.index(loc_name)][bssid_index][k]=='#'):  #empty cell - add RSSI\n",
        "        Q_train[locations.index(loc_name)][bssid_index][k]= dataframes_60[i].loc[j,'Strength']\n",
        "        break\n",
        "\n",
        "for i in range(len(dataframes_60)):\n",
        "  if not(names[i][-2:]=='_1'):\n",
        "    continue  #because _1 is for training\n",
        "  loc_name = names[i][:-2]  #take the position name\n",
        "  dataframes_60[i].sort_values(\"Strength\", ascending=False, inplace=True)\n",
        "  dataframes_60[i].reset_index(drop=True, inplace=True)\n",
        "  for j in range(len(dataframes_60[i])):\n",
        "    bssid = dataframes_60[i].loc[j,'BSSID']  #take MAC\n",
        "    bssid_index = BSSID.index(bssid) #find its index (to access in Q matrix)\n",
        "    #add element j[1] to Q\n",
        "    for k in range(len(Q_train[locations.index(loc_name) + 24][bssid_index])):\n",
        "      if (Q_train[locations.index(loc_name) + 24][bssid_index][k]=='#'):  #empty cell - add RSSI\n",
        "        Q_train[locations.index(loc_name) + 24][bssid_index][k]= dataframes_60[i].loc[j,'Strength']\n",
        "        break\n",
        "\n",
        "for i in range(row*2):\n",
        "  loc_name = names[i][:-2]  #take the position name\n",
        "  for j in range(col2):\n",
        "    #check element for '#' and if so then repeat values to -2\n",
        "    for k in range(col1):\n",
        "      if (Q_train[i][j][k]=='#'):  #empty cell - add RSSI as -2\n",
        "        Q_train[i][j][k]= -2\n",
        "\n",
        "#STEP 2: GENERATING TEST DATASET\n",
        "\n",
        "y_test = [0 for col in range(24)]\n",
        "for i in range(24):\n",
        "  y_test[i] = locations[i]\n",
        "\n",
        "\n",
        "for i in range(len(dataframes_60)):\n",
        "  if not(names[i][-2:]=='_2'):\n",
        "    continue  #because _2 is for testing and this loop is only for testing\n",
        "  loc_name = names[i][:-2]  #take the position name\n",
        "  dataframes_60[i].sort_values(\"Strength\", ascending=False, inplace=True)\n",
        "  dataframes_60[i].reset_index(drop=True, inplace=True)\n",
        "  for j in range(len(dataframes[i])):\n",
        "    bssid = dataframes_60[i].loc[j,'BSSID']  #take MAC\n",
        "    bssid_index = BSSID.index(bssid) #find its index (to access in Q matrix)\n",
        "    #add element j[1] to Q\n",
        "    for k in range(len(Q_test[locations.index(loc_name)][bssid_index])):\n",
        "      if (Q_test[locations.index(loc_name)][bssid_index][k]=='#'):  #empty cell - add RSSI\n",
        "        Q_test[locations.index(loc_name)][bssid_index][k]= dataframes_60[i].loc[j,'Strength']\n",
        "        break\n",
        "\n",
        "for i in range(row):\n",
        "  loc_name = names[i][:-2]  #take the position name\n",
        "  for j in range(col2):\n",
        "    #check element for '#' and if so then repeat values to -2\n",
        "    for k in range(col1):\n",
        "      if (Q_test[i][j][k]=='#'):  #empty cell - add RSSI as -2\n",
        "        Q_test[i][j][k]= -2\n",
        "\n",
        "numberOfQ = len(Q_train)\n",
        "quantile_transformer = QuantileTransformer(n_quantiles=60, random_state=0)\n",
        "\n",
        "Q_train_trans = Q_train.copy()\n",
        "Q_test_trans = Q_test.copy()\n",
        "\n",
        "\n",
        "for i in range(len(Q_train)):\n",
        "  Q_train_trans[i] = quantile_transformer.fit_transform(np.transpose(Q_train[i]))\n",
        "  np.transpose(Q_train[i])\n",
        "\n",
        "for i in range(len(Q_test)):\n",
        "  Q_test_trans[i] = quantile_transformer.transform(np.transpose(Q_test[i]))\n",
        "  np.transpose(Q_test[i])\n",
        "  \n",
        "Q_train_trans[0]"
      ],
      "execution_count": null,
      "outputs": [
        {
          "output_type": "execute_result",
          "data": {
            "text/plain": [
              "array([[0., 1., 1., ..., 1., 1., 0.],\n",
              "       [0., 1., 1., ..., 1., 1., 0.],\n",
              "       [0., 1., 1., ..., 1., 1., 0.],\n",
              "       ...,\n",
              "       [0., 0., 0., ..., 0., 0., 0.],\n",
              "       [0., 0., 0., ..., 0., 0., 0.],\n",
              "       [0., 0., 0., ..., 0., 0., 0.]])"
            ]
          },
          "metadata": {
            "tags": []
          },
          "execution_count": 227
        }
      ]
    },
    {
      "cell_type": "code",
      "metadata": {
        "id": "2ltLA77izzG4",
        "colab_type": "code",
        "colab": {}
      },
      "source": [
        "from scipy.spatial.distance import directed_hausdorff\n",
        "\n",
        "def Loc_estimation():\n",
        "  estimatedPositionArray = []\n",
        "  for i in range(len(Q_test_trans)):  #for each quantile in testing set\n",
        "    Q1 = Q_test_trans[i]\n",
        "    estimatedPosition = 0\n",
        "    reference = np.inf\n",
        "    for j in range(len(Q_train_trans)):\n",
        "      Q2 = Q_train_trans[j]\n",
        "      d = directed_hausdorff(Q1, Q2)[0] #calculates and returns PH distance\n",
        "      if d<reference:\n",
        "        reference = d\n",
        "        estimatedPosition = y_train[j]\n",
        "    estimatedPositionArray.append(estimatedPosition)\n",
        "  return estimatedPositionArray\n"
      ],
      "execution_count": null,
      "outputs": []
    },
    {
      "cell_type": "code",
      "metadata": {
        "id": "fIYSq-dX0ILo",
        "colab_type": "code",
        "colab": {
          "base_uri": "https://localhost:8080/",
          "height": 444
        },
        "outputId": "55fc433e-f65d-42c6-ad4a-3dc073481161"
      },
      "source": [
        "predictedPositions = Loc_estimation()\n",
        "\n",
        "for i in range(len(y_test)):\n",
        "  print(y_test[i] + \" , \" + predictedPositions[i])\n",
        "  "
      ],
      "execution_count": null,
      "outputs": [
        {
          "output_type": "stream",
          "text": [
            "WG , WF\n",
            "D151 , EntranceG\n",
            "D153 , D153\n",
            "D154 , StairG\n",
            "EEEG , StairG\n",
            "StairG , StairG\n",
            "D156 , D160\n",
            "D160 , D160\n",
            "D164 , D164\n",
            "D168 , D168\n",
            "D170 , D170\n",
            "EntranceG , EntranceG\n",
            "WF , D251\n",
            "EntranceF , EntranceG\n",
            "D251 , D251\n",
            "D250 , D250\n",
            "D249 , StairG\n",
            "StairF , StairF\n",
            "D267 , D267\n",
            "D269 , D269\n",
            "D266 , D267\n",
            "D262 , D258\n",
            "D258 , D258\n",
            "D252 , D258\n"
          ],
          "name": "stdout"
        }
      ]
    },
    {
      "cell_type": "code",
      "metadata": {
        "id": "hR8x5qMwcLst",
        "colab_type": "code",
        "colab": {
          "base_uri": "https://localhost:8080/",
          "height": 52
        },
        "outputId": "5cb5a672-e095-4cf3-8c81-28fecc7ca39c"
      },
      "source": [
        "## Without normalisation\n",
        "print(accuracy_score_PH(predictedPositions))\n",
        "print(Raccuracy_score_PH(predictedPositions))"
      ],
      "execution_count": null,
      "outputs": [
        {
          "output_type": "stream",
          "text": [
            "0.6666666666666666\n",
            "0.5416666666666666\n"
          ],
          "name": "stdout"
        }
      ]
    },
    {
      "cell_type": "code",
      "metadata": {
        "id": "KrLrh8gN0NSE",
        "colab_type": "code",
        "colab": {
          "base_uri": "https://localhost:8080/",
          "height": 52
        },
        "outputId": "6d79b13c-fd78-4e59-bce5-1f6c44fc209a"
      },
      "source": [
        "## With normalisation\n",
        "print(accuracy_score_PH(predictedPositions))\n",
        "print(Raccuracy_score_PH(predictedPositions))"
      ],
      "execution_count": null,
      "outputs": [
        {
          "output_type": "stream",
          "text": [
            "0.6666666666666666\n",
            "0.5416666666666666\n"
          ],
          "name": "stdout"
        }
      ]
    },
    {
      "cell_type": "markdown",
      "metadata": {
        "id": "tICX-r7a3PPG",
        "colab_type": "text"
      },
      "source": [
        "### Quantile Distribution comparing PH Distance, with normalised values and No_of_quantiles = 10"
      ]
    },
    {
      "cell_type": "code",
      "metadata": {
        "id": "I9tQRAjS0aoC",
        "colab_type": "code",
        "colab": {
          "base_uri": "https://localhost:8080/",
          "height": 35
        },
        "outputId": "59dab587-596a-4008-c7d3-2d498d5c0187"
      },
      "source": [
        "dataframes_10 = dataframes.copy()\n",
        "\n",
        "rssi_1 = []\n",
        "rssi_2 =[]\n",
        "rssi_4 = []\n",
        "\n",
        "def normalise_dataframe_10():\n",
        "  for i in range(len(dataframes_10)):\n",
        "    if names[i][-2:]=='_3':\n",
        "      continue  #Not considering this device due to avoid Android Throttling consequences\n",
        "    for j in range(len(dataframes_10[i])):\n",
        "      if names[i][-2:]=='_1':\n",
        "        rssi_1.append(dataframes_10[i].loc[j,'Strength'])\n",
        "      if names[i][-2:]=='_2':\n",
        "        rssi_2.append(dataframes_10[i].loc[j,'Strength'])\n",
        "      if names[i][-2:]=='_4':\n",
        "        rssi_4.append(dataframes_10[i].loc[j,'Strength'])\n",
        "  mean_1=statistics.mean(rssi_1)\n",
        "  mean_2=statistics.mean(rssi_2)\n",
        "  mean_4=statistics.mean(rssi_4)\n",
        "  stddev_1 = statistics.stdev (rssi_1)\n",
        "  stddev_2 = statistics.stdev(rssi_2)\n",
        "  stddev_4 = statistics.stdev(rssi_4)\n",
        "  print(mean_1, mean_2, mean_4, stddev_1, stddev_2, stddev_4)\n",
        "  for i in range(len(dataframes_10)):\n",
        "    for j in range(len(dataframes_10[i])):\n",
        "      #print(\"Reached\" + str(j))\n",
        "      if names[i][-2:]=='_1':\n",
        "        dataframes_10[i].loc[j,'Strength'] = ((dataframes_10[i].loc[j,'Strength'] - mean_1 )/(stddev_1) )\n",
        "      if names[i][-2:]=='_2':\n",
        "        dataframes_10[i].loc[j,'Strength'] = ((dataframes_10[i].loc[j,'Strength'] - mean_2 )/(stddev_2) )\n",
        "      if names[i][-2:]=='_4':\n",
        "        dataframes_10[i].loc[j,'Strength'] = ((dataframes_10[i].loc[j,'Strength'] - mean_4 )/(stddev_4) )\n",
        "\n",
        "normalise_dataframe_10()\n",
        "\n",
        "Q = []  #3D array - 2D Fingerprint Quantile for each 24 locations. Rows sorted by BSSID. Columns no need to sort.\n",
        "def ThreeD(a, b, c): \n",
        "    lst = [[ ['#' for col in range(a)] for col in range(b)] for row in range(c)] \n",
        "    return lst  \n",
        "col1 = 10\n",
        "col2 = 32\n",
        "row = 24 \n",
        "Q_train = (ThreeD(col1, col2, row*2)) #48 rows in train\n",
        "Q_test = (ThreeD(col1, col2, row)) \n",
        "\n",
        "y_train = [0 for col in range(48)]\n",
        "for i in range(24):\n",
        "  y_train[i] = locations[i]\n",
        "  y_train[i+24]=locations[i]\n",
        "\n",
        "\n",
        "\n",
        "# Datasets _1, _4 are for training. _2 will be used for testing\n",
        "#STEP 1: TRAINING\n",
        "for i in range(len(dataframes_10)):\n",
        "  if not(names[i][-2:]=='_4' ):\n",
        "    continue  #because _4 is for training\n",
        "  loc_name = names[i][:-2]  #take the position name\n",
        "  dataframes_10[i].sort_values(\"Strength\", ascending=False, inplace=True)\n",
        "  dataframes_10[i].reset_index(drop=True, inplace=True)\n",
        "  for j in range(len(dataframes_10[i])):\n",
        "    bssid = dataframes_10[i].loc[j,'BSSID']  #take MAC\n",
        "    bssid_index = BSSID.index(bssid) #find its index (to access in Q matrix)\n",
        "    #add element j[1] to Q\n",
        "    for k in range(len(Q_train[locations.index(loc_name)][bssid_index])):\n",
        "      if (Q_train[locations.index(loc_name)][bssid_index][k]=='#'):  #empty cell - add RSSI\n",
        "        Q_train[locations.index(loc_name)][bssid_index][k]= dataframes_10[i].loc[j,'Strength']\n",
        "        break\n",
        "\n",
        "for i in range(len(dataframes_10)):\n",
        "  if not(names[i][-2:]=='_1'):\n",
        "    continue  #because _1 is for training\n",
        "  loc_name = names[i][:-2]  #take the position name\n",
        "  dataframes_10[i].sort_values(\"Strength\", ascending=False, inplace=True)\n",
        "  dataframes_10[i].reset_index(drop=True, inplace=True)\n",
        "  for j in range(len(dataframes_10[i])):\n",
        "    bssid = dataframes_10[i].loc[j,'BSSID']  #take MAC\n",
        "    bssid_index = BSSID.index(bssid) #find its index (to access in Q matrix)\n",
        "    #add element j[1] to Q\n",
        "    for k in range(len(Q_train[locations.index(loc_name) + 24][bssid_index])):\n",
        "      if (Q_train[locations.index(loc_name) + 24][bssid_index][k]=='#'):  #empty cell - add RSSI\n",
        "        Q_train[locations.index(loc_name) + 24][bssid_index][k]= dataframes_10[i].loc[j,'Strength']\n",
        "        break\n",
        "\n",
        "for i in range(row*2):\n",
        "  loc_name = names[i][:-2]  #take the position name\n",
        "  for j in range(col2):\n",
        "    #check element for '#' and if so then repeat values to -2\n",
        "    for k in range(col1):\n",
        "      if (Q_train[i][j][k]=='#'):  #empty cell - add RSSI as -2\n",
        "        Q_train[i][j][k]= -2\n",
        "\n",
        "#STEP 2: GENERATING TEST DATASET\n",
        "\n",
        "y_test = [0 for col in range(24)]\n",
        "for i in range(24):\n",
        "  y_test[i] = locations[i]\n",
        "\n",
        "\n",
        "for i in range(len(dataframes)):\n",
        "  if not(names[i][-2:]=='_2'):\n",
        "    continue  #because _2 is for testing and this loop is only for testing\n",
        "  loc_name = names[i][:-2]  #take the position name\n",
        "  dataframes_10[i].sort_values(\"Strength\", ascending=False, inplace=True)\n",
        "  dataframes_10[i].reset_index(drop=True, inplace=True)\n",
        "  for j in range(len(dataframes[i])):\n",
        "    bssid = dataframes_10[i].loc[j,'BSSID']  #take MAC\n",
        "    bssid_index = BSSID.index(bssid) #find its index (to access in Q matrix)\n",
        "    #add element j[1] to Q\n",
        "    for k in range(len(Q_test[locations.index(loc_name)][bssid_index])):\n",
        "      if (Q_test[locations.index(loc_name)][bssid_index][k]=='#'):  #empty cell - add RSSI\n",
        "        Q_test[locations.index(loc_name)][bssid_index][k]= dataframes_10[i].loc[j,'Strength']\n",
        "        break\n",
        "\n",
        "for i in range(row):\n",
        "  loc_name = names[i][:-2]  #take the position name\n",
        "  for j in range(col2):\n",
        "    #check element for '#' and if so then repeat values to -2\n",
        "    for k in range(col1):\n",
        "      if (Q_test[i][j][k]=='#'):  #empty cell - add RSSI as -2\n",
        "        Q_test[i][j][k]= -2\n",
        "\n",
        "from sklearn.preprocessing import quantile_transform\n",
        "numberOfQ = len(Q_train)\n",
        "quantile_transformer = QuantileTransformer(n_quantiles=10, random_state=0)\n",
        "\n",
        "Q_train_trans = Q_train.copy()\n",
        "Q_test_trans = Q_test.copy()\n",
        "\n",
        "\n",
        "for i in range(len(Q_train)):\n",
        "  Q_train_trans[i] = quantile_transformer.fit_transform(np.transpose(Q_train[i]))\n",
        "  np.transpose(Q_train[i])\n",
        "\n",
        "for i in range(len(Q_test)):\n",
        "  Q_test_trans[i] = quantile_transformer.transform(np.transpose(Q_test[i]))\n",
        "  np.transpose(Q_test[i])\n",
        "  \n",
        "#Q_train_trans[0]"
      ],
      "execution_count": null,
      "outputs": [
        {
          "output_type": "stream",
          "text": [
            "-0.062046342465939305 -0.0072322509784775585 -0.061634920468764336 1.0012021231924837 1.0001228909000397 1.000936545125591\n"
          ],
          "name": "stdout"
        }
      ]
    },
    {
      "cell_type": "code",
      "metadata": {
        "id": "0HiTdSEd3bR3",
        "colab_type": "code",
        "colab": {
          "base_uri": "https://localhost:8080/",
          "height": 444
        },
        "outputId": "9adb48c5-0ed3-4a83-94fb-8824a66aab24"
      },
      "source": [
        "predictedPositions = Loc_estimation()\n",
        "\n",
        "for i in range(len(y_test)):\n",
        "  print(y_test[i] + \" , \" + predictedPositions[i])\n",
        "  "
      ],
      "execution_count": null,
      "outputs": [
        {
          "output_type": "stream",
          "text": [
            "WG , EntranceG\n",
            "D151 , EntranceG\n",
            "D153 , D154\n",
            "D154 , StairG\n",
            "EEEG , EEEG\n",
            "StairG , StairG\n",
            "D156 , D160\n",
            "D160 , D160\n",
            "D164 , D160\n",
            "D168 , D160\n",
            "D170 , D170\n",
            "EntranceG , EntranceG\n",
            "WF , D251\n",
            "EntranceF , D251\n",
            "D251 , EntranceF\n",
            "D250 , D251\n",
            "D249 , D251\n",
            "StairF , StairF\n",
            "D267 , StairF\n",
            "D269 , D269\n",
            "D266 , D267\n",
            "D262 , D250\n",
            "D258 , D258\n",
            "D252 , D258\n"
          ],
          "name": "stdout"
        }
      ]
    },
    {
      "cell_type": "code",
      "metadata": {
        "id": "fTNZWkdJ3g4u",
        "colab_type": "code",
        "colab": {
          "base_uri": "https://localhost:8080/",
          "height": 52
        },
        "outputId": "091a80ef-6387-4231-a851-155ce1c91804"
      },
      "source": [
        "## Without normalisation\n",
        "print(accuracy_score_PH(predictedPositions))\n",
        "print(Raccuracy_score_PH(predictedPositions))"
      ],
      "execution_count": null,
      "outputs": [
        {
          "output_type": "stream",
          "text": [
            "0.5208333333333334\n",
            "0.3333333333333333\n"
          ],
          "name": "stdout"
        }
      ]
    },
    {
      "cell_type": "code",
      "metadata": {
        "id": "2HXCTM9v3kJN",
        "colab_type": "code",
        "colab": {
          "base_uri": "https://localhost:8080/",
          "height": 52
        },
        "outputId": "9bbcddd9-04a1-43a9-831a-071882bb6405"
      },
      "source": [
        "## With normalisation\n",
        "print(accuracy_score_PH(predictedPositions))\n",
        "print(Raccuracy_score_PH(predictedPositions))"
      ],
      "execution_count": null,
      "outputs": [
        {
          "output_type": "stream",
          "text": [
            "0.5208333333333334\n",
            "0.3333333333333333\n"
          ],
          "name": "stdout"
        }
      ]
    },
    {
      "cell_type": "code",
      "metadata": {
        "id": "CFALBSNZ3mpC",
        "colab_type": "code",
        "colab": {}
      },
      "source": [
        ""
      ],
      "execution_count": null,
      "outputs": []
    }
  ]
}