{
  "nbformat": 4,
  "nbformat_minor": 0,
  "metadata": {
    "colab": {
      "name": "MvG Dist.",
      "provenance": [],
      "collapsed_sections": [],
      "include_colab_link": true
    },
    "kernelspec": {
      "name": "python3",
      "display_name": "Python 3"
    }
  },
  "cells": [
    {
      "cell_type": "markdown",
      "metadata": {
        "id": "view-in-github",
        "colab_type": "text"
      },
      "source": [
        "<a href=\"https://colab.research.google.com/github/divishagupta99/WiFi_Localisation/blob/master/WiFi_Localisation_MvG_Dist_.ipynb\" target=\"_parent\"><img src=\"https://colab.research.google.com/assets/colab-badge.svg\" alt=\"Open In Colab\"/></a>"
      ]
    },
    {
      "cell_type": "code",
      "metadata": {
        "id": "V0icRPZ7U6p9",
        "colab_type": "code",
        "colab": {}
      },
      "source": [
        "import pandas as pd\n",
        "import numpy as np"
      ],
      "execution_count": null,
      "outputs": []
    },
    {
      "cell_type": "code",
      "metadata": {
        "id": "lPL4-GwkVAMX",
        "colab_type": "code",
        "colab": {
          "base_uri": "https://localhost:8080/",
          "height": 35
        },
        "outputId": "6fe65d01-9d31-42e7-e416-98a3e19f7027"
      },
      "source": [
        "!git clone https://github.com/divishagupta99/WiFi_Localisation.git"
      ],
      "execution_count": null,
      "outputs": [
        {
          "output_type": "stream",
          "text": [
            "fatal: destination path 'WiFi_Localisation' already exists and is not an empty directory.\n"
          ],
          "name": "stdout"
        }
      ]
    },
    {
      "cell_type": "code",
      "metadata": {
        "id": "tHpDB6AwVC-b",
        "colab_type": "code",
        "colab": {}
      },
      "source": [
        "import os\n",
        "def rename(): \n",
        "  i = 0  \n",
        "  for filename in os.listdir(\"/content/WiFi_Localisation/Data Set/\"): \n",
        "    dst =str(filename).replace('-','_')\n",
        "    src ='/content/WiFi_Localisation/Data Set/'+ filename \n",
        "    dst ='/content/WiFi_Localisation/Data Set/'+ dst \n",
        "      \n",
        "    # rename() function will \n",
        "    # rename all the files \n",
        "    os.rename(src, dst) \n",
        "    i += 1\n",
        "  print(i)"
      ],
      "execution_count": null,
      "outputs": []
    },
    {
      "cell_type": "code",
      "metadata": {
        "id": "bfm80HUlVFMj",
        "colab_type": "code",
        "colab": {
          "base_uri": "https://localhost:8080/",
          "height": 35
        },
        "outputId": "6a8242ea-5fcd-4732-9a44-d236e2f621aa"
      },
      "source": [
        "rename()"
      ],
      "execution_count": null,
      "outputs": [
        {
          "output_type": "stream",
          "text": [
            "96\n"
          ],
          "name": "stdout"
        }
      ]
    },
    {
      "cell_type": "code",
      "metadata": {
        "id": "o-ahI0VJVHn1",
        "colab_type": "code",
        "colab": {}
      },
      "source": [
        "dataframes = []\n",
        "names = []\n",
        "def importing_df():\n",
        "  for filename in os.listdir(\"/content/WiFi_Localisation/Data Set/\"):\n",
        "    dataframes.append(pd.read_csv(\"/content/WiFi_Localisation/Data Set/\"+str(filename),header=1))\n",
        "    new_name = str(filename).replace('.csv','')\n",
        "    names.append(new_name)"
      ],
      "execution_count": null,
      "outputs": []
    },
    {
      "cell_type": "code",
      "metadata": {
        "id": "l4J01PtmVLMY",
        "colab_type": "code",
        "colab": {}
      },
      "source": [
        "def preprocessing():\n",
        "  for i in range(len(dataframes)):\n",
        "    #df_temp = dataframes[i]\n",
        "    dataframes[i].drop(dataframes[i].loc[dataframes[i]['SSID']!= 'BPGC-NAB'].index, inplace=True)      #Considering only BPGC-NAB\n",
        "    dataframes[i].reset_index(drop = True, inplace=True)\n",
        "    for j in range(len(dataframes[i]['Strength'])):\n",
        "      dataframes[i]['Strength'][j] = str(dataframes[i]['Strength'][j]).replace('dBm', '')\n",
        "    dataframes[i]['Strength'] = dataframes[i]['Strength'].astype(int)\n",
        "    dataframes[i] = dataframes[i].drop(columns = ['Primary Frequency', 'Distance', '802.11mc', 'Security', 'SSID'])\n"
      ],
      "execution_count": null,
      "outputs": []
    },
    {
      "cell_type": "code",
      "metadata": {
        "id": "g-G3xuQiVdm_",
        "colab_type": "code",
        "colab": {}
      },
      "source": [
        "importing_df()\n",
        "preprocessing()"
      ],
      "execution_count": null,
      "outputs": []
    },
    {
      "cell_type": "code",
      "metadata": {
        "id": "DgwX2QYyWCQ8",
        "colab_type": "code",
        "colab": {
          "base_uri": "https://localhost:8080/",
          "height": 194
        },
        "outputId": "b67199cf-ea7c-464b-8875-fde71bec2f48"
      },
      "source": [
        "dataframes[0].head()"
      ],
      "execution_count": null,
      "outputs": [
        {
          "output_type": "execute_result",
          "data": {
            "text/html": [
              "<div>\n",
              "<style scoped>\n",
              "    .dataframe tbody tr th:only-of-type {\n",
              "        vertical-align: middle;\n",
              "    }\n",
              "\n",
              "    .dataframe tbody tr th {\n",
              "        vertical-align: top;\n",
              "    }\n",
              "\n",
              "    .dataframe thead th {\n",
              "        text-align: right;\n",
              "    }\n",
              "</style>\n",
              "<table border=\"1\" class=\"dataframe\">\n",
              "  <thead>\n",
              "    <tr style=\"text-align: right;\">\n",
              "      <th></th>\n",
              "      <th>Time Stamp</th>\n",
              "      <th>BSSID</th>\n",
              "      <th>Strength</th>\n",
              "    </tr>\n",
              "  </thead>\n",
              "  <tbody>\n",
              "    <tr>\n",
              "      <th>0</th>\n",
              "      <td>2020/02/16-12:01:28</td>\n",
              "      <td>00:a3:8e:60:f2:a0</td>\n",
              "      <td>-76</td>\n",
              "    </tr>\n",
              "    <tr>\n",
              "      <th>1</th>\n",
              "      <td>2020/02/16-12:01:28</td>\n",
              "      <td>08:4f:a9:10:4b:80</td>\n",
              "      <td>-74</td>\n",
              "    </tr>\n",
              "    <tr>\n",
              "      <th>2</th>\n",
              "      <td>2020/02/16-12:01:28</td>\n",
              "      <td>70:ea:1a:22:8f:e0</td>\n",
              "      <td>-61</td>\n",
              "    </tr>\n",
              "    <tr>\n",
              "      <th>3</th>\n",
              "      <td>2020/02/16-12:01:28</td>\n",
              "      <td>70:ea:1a:22:96:20</td>\n",
              "      <td>-81</td>\n",
              "    </tr>\n",
              "    <tr>\n",
              "      <th>4</th>\n",
              "      <td>2020/02/16-12:01:28</td>\n",
              "      <td>70:ea:1a:22:96:a0</td>\n",
              "      <td>-74</td>\n",
              "    </tr>\n",
              "  </tbody>\n",
              "</table>\n",
              "</div>"
            ],
            "text/plain": [
              "            Time Stamp              BSSID  Strength\n",
              "0  2020/02/16-12:01:28  00:a3:8e:60:f2:a0       -76\n",
              "1  2020/02/16-12:01:28  08:4f:a9:10:4b:80       -74\n",
              "2  2020/02/16-12:01:28  70:ea:1a:22:8f:e0       -61\n",
              "3  2020/02/16-12:01:28  70:ea:1a:22:96:20       -81\n",
              "4  2020/02/16-12:01:28  70:ea:1a:22:96:a0       -74"
            ]
          },
          "metadata": {
            "tags": []
          },
          "execution_count": 45
        }
      ]
    },
    {
      "cell_type": "markdown",
      "metadata": {
        "id": "5WUh-Gz1WvUg",
        "colab_type": "text"
      },
      "source": [
        "### We'll group the data entries according to Time Stamp and the APs that are not recorded will be assigned some value"
      ]
    },
    {
      "cell_type": "markdown",
      "metadata": {
        "id": "jLaASWizXLaO",
        "colab_type": "text"
      },
      "source": [
        "### Finding Unique BSSID Values"
      ]
    },
    {
      "cell_type": "code",
      "metadata": {
        "id": "1Ez6U7rlWF-1",
        "colab_type": "code",
        "colab": {
          "base_uri": "https://localhost:8080/",
          "height": 55
        },
        "outputId": "5fafd271-40ac-490d-e959-2ad869b54126"
      },
      "source": [
        "BSSID = []\n",
        "def unique_BSSID():\n",
        "  for i in range(len(dataframes)):\n",
        "    df_temp = dataframes[i]\n",
        "    for j in df_temp['BSSID']:\n",
        "      BSSID.append(j)\n",
        "unique_BSSID()\n",
        "BSSID = list(set(BSSID))\n",
        "print(BSSID, len(BSSID))"
      ],
      "execution_count": null,
      "outputs": [
        {
          "output_type": "stream",
          "text": [
            "['a8:b4:56:cc:de:00', '08:4f:a9:30:00:00', '70:ea:1a:22:ac:00', '08:4f:a9:10:4b:80', '08:4f:a9:39:6a:40', '08:4f:a9:39:68:20', '70:ea:1a:22:a5:a0', '70:ea:1a:22:96:00', '70:ea:1a:22:a9:a0', '08:4f:a9:2d:8a:a0', '70:ea:1a:22:97:80', '00:a3:8e:4e:29:a0', 'a8:b4:56:ca:8f:40', '68:3b:78:e9:c0:e0', '70:ea:1a:22:92:40', '70:ea:1a:22:a9:40', '70:ea:1a:22:9f:20', '70:ea:1a:22:87:60', '70:ea:1a:22:9b:e0', '70:ea:1a:22:9f:80', '08:4f:a9:2d:77:40', '08:4f:a9:2d:8a:40', '70:ea:1a:22:a0:20', '00:a3:8e:60:f2:a0', '70:ea:1a:22:96:20', '70:ea:1a:22:9b:80', '08:4f:a9:43:38:a0', '70:ea:1a:22:8f:e0', '70:ea:1a:22:9f:e0', '70:ea:1a:22:96:a0', '70:ea:1a:22:98:20', '08:4f:a9:39:68:40'] 32\n"
          ],
          "name": "stdout"
        }
      ]
    },
    {
      "cell_type": "code",
      "metadata": {
        "id": "6LIuX_o5XAns",
        "colab_type": "code",
        "colab": {}
      },
      "source": [
        "#sorting BBSID\n",
        "BSSID.sort()"
      ],
      "execution_count": null,
      "outputs": []
    },
    {
      "cell_type": "code",
      "metadata": {
        "id": "rULc9wYGZTD6",
        "colab_type": "code",
        "colab": {
          "base_uri": "https://localhost:8080/",
          "height": 55
        },
        "outputId": "5291fe14-e80a-4344-f7c1-836eee3c0c16"
      },
      "source": [
        "'''\n",
        "BSSIDs are sorted and they have a fixed location in the list after sorting. We need a dictionary that maps the BSSIDs to their location\n",
        "'''\n",
        "Dict = {}\n",
        "for i in range(len(BSSID)):\n",
        "  Dict[BSSID[i]] = i\n",
        "\n",
        "print(Dict)\n"
      ],
      "execution_count": null,
      "outputs": [
        {
          "output_type": "stream",
          "text": [
            "{'00:a3:8e:4e:29:a0': 0, '00:a3:8e:60:f2:a0': 1, '08:4f:a9:10:4b:80': 2, '08:4f:a9:2d:77:40': 3, '08:4f:a9:2d:8a:40': 4, '08:4f:a9:2d:8a:a0': 5, '08:4f:a9:30:00:00': 6, '08:4f:a9:39:68:20': 7, '08:4f:a9:39:68:40': 8, '08:4f:a9:39:6a:40': 9, '08:4f:a9:43:38:a0': 10, '68:3b:78:e9:c0:e0': 11, '70:ea:1a:22:87:60': 12, '70:ea:1a:22:8f:e0': 13, '70:ea:1a:22:92:40': 14, '70:ea:1a:22:96:00': 15, '70:ea:1a:22:96:20': 16, '70:ea:1a:22:96:a0': 17, '70:ea:1a:22:97:80': 18, '70:ea:1a:22:98:20': 19, '70:ea:1a:22:9b:80': 20, '70:ea:1a:22:9b:e0': 21, '70:ea:1a:22:9f:20': 22, '70:ea:1a:22:9f:80': 23, '70:ea:1a:22:9f:e0': 24, '70:ea:1a:22:a0:20': 25, '70:ea:1a:22:a5:a0': 26, '70:ea:1a:22:a9:40': 27, '70:ea:1a:22:a9:a0': 28, '70:ea:1a:22:ac:00': 29, 'a8:b4:56:ca:8f:40': 30, 'a8:b4:56:cc:de:00': 31}\n"
          ],
          "name": "stdout"
        }
      ]
    },
    {
      "cell_type": "code",
      "metadata": {
        "id": "G-2peZPoaIk8",
        "colab_type": "code",
        "colab": {}
      },
      "source": [
        "mvg_dist_df = []\n",
        "for j in range(len(dataframes)):\n",
        "  mvg_dist = []\n",
        "  timestamps_seen = []\n",
        "  for i in range(len(dataframes[j])):\n",
        "    timestamp = dataframes[j].iloc[i]['Time Stamp']\n",
        "    if timestamp not in timestamps_seen:\n",
        "      timestamps_seen.append(timestamp)\n",
        "      scan = ['#']*32\n",
        "      scan[Dict[dataframes[j].iloc[i]['BSSID']]] = dataframes[j].iloc[i]['Strength']\n",
        "      mvg_dist.append(scan)\n",
        "    else:\n",
        "      mvg_dist[timestamps_seen.index(timestamp)][Dict[dataframes[j].iloc[i]['BSSID']] -1] = dataframes[j].iloc[i]['Strength']\n",
        "  mvg_dist_df.append(pd.DataFrame(mvg_dist))"
      ],
      "execution_count": null,
      "outputs": []
    },
    {
      "cell_type": "code",
      "metadata": {
        "id": "XZ20K_rhfHzS",
        "colab_type": "code",
        "colab": {
          "base_uri": "https://localhost:8080/",
          "height": 194
        },
        "outputId": "16b339e9-d22b-4c7a-c7a9-c17048a34f96"
      },
      "source": [
        "mvg_dist_df[0].head()"
      ],
      "execution_count": null,
      "outputs": [
        {
          "output_type": "execute_result",
          "data": {
            "text/html": [
              "<div>\n",
              "<style scoped>\n",
              "    .dataframe tbody tr th:only-of-type {\n",
              "        vertical-align: middle;\n",
              "    }\n",
              "\n",
              "    .dataframe tbody tr th {\n",
              "        vertical-align: top;\n",
              "    }\n",
              "\n",
              "    .dataframe thead th {\n",
              "        text-align: right;\n",
              "    }\n",
              "</style>\n",
              "<table border=\"1\" class=\"dataframe\">\n",
              "  <thead>\n",
              "    <tr style=\"text-align: right;\">\n",
              "      <th></th>\n",
              "      <th>0</th>\n",
              "      <th>1</th>\n",
              "      <th>2</th>\n",
              "      <th>3</th>\n",
              "      <th>4</th>\n",
              "      <th>5</th>\n",
              "      <th>6</th>\n",
              "      <th>7</th>\n",
              "      <th>8</th>\n",
              "      <th>9</th>\n",
              "      <th>10</th>\n",
              "      <th>11</th>\n",
              "      <th>12</th>\n",
              "      <th>13</th>\n",
              "      <th>14</th>\n",
              "      <th>15</th>\n",
              "      <th>16</th>\n",
              "      <th>17</th>\n",
              "      <th>18</th>\n",
              "      <th>19</th>\n",
              "      <th>20</th>\n",
              "      <th>21</th>\n",
              "      <th>22</th>\n",
              "      <th>23</th>\n",
              "      <th>24</th>\n",
              "      <th>25</th>\n",
              "      <th>26</th>\n",
              "      <th>27</th>\n",
              "      <th>28</th>\n",
              "      <th>29</th>\n",
              "      <th>30</th>\n",
              "      <th>31</th>\n",
              "    </tr>\n",
              "  </thead>\n",
              "  <tbody>\n",
              "    <tr>\n",
              "      <th>0</th>\n",
              "      <td>#</td>\n",
              "      <td>-74</td>\n",
              "      <td>#</td>\n",
              "      <td>#</td>\n",
              "      <td>#</td>\n",
              "      <td>#</td>\n",
              "      <td>#</td>\n",
              "      <td>#</td>\n",
              "      <td>#</td>\n",
              "      <td>#</td>\n",
              "      <td>#</td>\n",
              "      <td>#</td>\n",
              "      <td>-61</td>\n",
              "      <td>#</td>\n",
              "      <td>#</td>\n",
              "      <td>-81</td>\n",
              "      <td>-74</td>\n",
              "      <td>#</td>\n",
              "      <td>-68</td>\n",
              "      <td>#</td>\n",
              "      <td>#</td>\n",
              "      <td>#</td>\n",
              "      <td>#</td>\n",
              "      <td>#</td>\n",
              "      <td>-75</td>\n",
              "      <td>-77</td>\n",
              "      <td>#</td>\n",
              "      <td>-79</td>\n",
              "      <td>-74</td>\n",
              "      <td>-75</td>\n",
              "      <td>-73</td>\n",
              "      <td>#</td>\n",
              "    </tr>\n",
              "    <tr>\n",
              "      <th>1</th>\n",
              "      <td>#</td>\n",
              "      <td>#</td>\n",
              "      <td>-70</td>\n",
              "      <td>#</td>\n",
              "      <td>#</td>\n",
              "      <td>#</td>\n",
              "      <td>#</td>\n",
              "      <td>#</td>\n",
              "      <td>#</td>\n",
              "      <td>#</td>\n",
              "      <td>#</td>\n",
              "      <td>#</td>\n",
              "      <td>-63</td>\n",
              "      <td>#</td>\n",
              "      <td>#</td>\n",
              "      <td>-78</td>\n",
              "      <td>-73</td>\n",
              "      <td>#</td>\n",
              "      <td>#</td>\n",
              "      <td>#</td>\n",
              "      <td>#</td>\n",
              "      <td>#</td>\n",
              "      <td>#</td>\n",
              "      <td>#</td>\n",
              "      <td>#</td>\n",
              "      <td>#</td>\n",
              "      <td>#</td>\n",
              "      <td>-80</td>\n",
              "      <td>#</td>\n",
              "      <td>-72</td>\n",
              "      <td>#</td>\n",
              "      <td>#</td>\n",
              "    </tr>\n",
              "    <tr>\n",
              "      <th>2</th>\n",
              "      <td>#</td>\n",
              "      <td>#</td>\n",
              "      <td>-64</td>\n",
              "      <td>#</td>\n",
              "      <td>#</td>\n",
              "      <td>#</td>\n",
              "      <td>#</td>\n",
              "      <td>#</td>\n",
              "      <td>#</td>\n",
              "      <td>#</td>\n",
              "      <td>#</td>\n",
              "      <td>#</td>\n",
              "      <td>-65</td>\n",
              "      <td>#</td>\n",
              "      <td>#</td>\n",
              "      <td>-75</td>\n",
              "      <td>-71</td>\n",
              "      <td>#</td>\n",
              "      <td>#</td>\n",
              "      <td>#</td>\n",
              "      <td>#</td>\n",
              "      <td>#</td>\n",
              "      <td>#</td>\n",
              "      <td>#</td>\n",
              "      <td>#</td>\n",
              "      <td>#</td>\n",
              "      <td>#</td>\n",
              "      <td>-80</td>\n",
              "      <td>#</td>\n",
              "      <td>-67</td>\n",
              "      <td>#</td>\n",
              "      <td>#</td>\n",
              "    </tr>\n",
              "    <tr>\n",
              "      <th>3</th>\n",
              "      <td>#</td>\n",
              "      <td>#</td>\n",
              "      <td>-64</td>\n",
              "      <td>#</td>\n",
              "      <td>#</td>\n",
              "      <td>#</td>\n",
              "      <td>#</td>\n",
              "      <td>#</td>\n",
              "      <td>#</td>\n",
              "      <td>#</td>\n",
              "      <td>#</td>\n",
              "      <td>#</td>\n",
              "      <td>-60</td>\n",
              "      <td>#</td>\n",
              "      <td>#</td>\n",
              "      <td>-75</td>\n",
              "      <td>-71</td>\n",
              "      <td>#</td>\n",
              "      <td>#</td>\n",
              "      <td>#</td>\n",
              "      <td>#</td>\n",
              "      <td>#</td>\n",
              "      <td>#</td>\n",
              "      <td>#</td>\n",
              "      <td>#</td>\n",
              "      <td>#</td>\n",
              "      <td>#</td>\n",
              "      <td>-80</td>\n",
              "      <td>#</td>\n",
              "      <td>-67</td>\n",
              "      <td>#</td>\n",
              "      <td>#</td>\n",
              "    </tr>\n",
              "    <tr>\n",
              "      <th>4</th>\n",
              "      <td>#</td>\n",
              "      <td>#</td>\n",
              "      <td>-64</td>\n",
              "      <td>#</td>\n",
              "      <td>#</td>\n",
              "      <td>#</td>\n",
              "      <td>#</td>\n",
              "      <td>#</td>\n",
              "      <td>#</td>\n",
              "      <td>#</td>\n",
              "      <td>#</td>\n",
              "      <td>#</td>\n",
              "      <td>-60</td>\n",
              "      <td>#</td>\n",
              "      <td>#</td>\n",
              "      <td>-75</td>\n",
              "      <td>-71</td>\n",
              "      <td>#</td>\n",
              "      <td>#</td>\n",
              "      <td>#</td>\n",
              "      <td>#</td>\n",
              "      <td>#</td>\n",
              "      <td>#</td>\n",
              "      <td>#</td>\n",
              "      <td>#</td>\n",
              "      <td>#</td>\n",
              "      <td>#</td>\n",
              "      <td>-80</td>\n",
              "      <td>#</td>\n",
              "      <td>-67</td>\n",
              "      <td>#</td>\n",
              "      <td>#</td>\n",
              "    </tr>\n",
              "  </tbody>\n",
              "</table>\n",
              "</div>"
            ],
            "text/plain": [
              "  0    1    2  3  4  5  6  7  8  9   ... 22 23   24   25 26  27   28  29   30 31\n",
              "0  #  -74    #  #  #  #  #  #  #  #  ...  #  #  -75  -77  # -79  -74 -75  -73  #\n",
              "1  #    #  -70  #  #  #  #  #  #  #  ...  #  #    #    #  # -80    # -72    #  #\n",
              "2  #    #  -64  #  #  #  #  #  #  #  ...  #  #    #    #  # -80    # -67    #  #\n",
              "3  #    #  -64  #  #  #  #  #  #  #  ...  #  #    #    #  # -80    # -67    #  #\n",
              "4  #    #  -64  #  #  #  #  #  #  #  ...  #  #    #    #  # -80    # -67    #  #\n",
              "\n",
              "[5 rows x 32 columns]"
            ]
          },
          "metadata": {
            "tags": []
          },
          "execution_count": 50
        }
      ]
    },
    {
      "cell_type": "markdown",
      "metadata": {
        "id": "rJGkECl1MBKU",
        "colab_type": "text"
      },
      "source": [
        "### This overall need to be a Gaussian Distribution. So replacing '#' from a Gaussian Dist. of mean = -94 and std. deviation = 3"
      ]
    },
    {
      "cell_type": "code",
      "metadata": {
        "id": "PZK9gfGjL_y8",
        "colab_type": "code",
        "colab": {}
      },
      "source": [
        "np.random.seed(42)\n",
        "def fillwithrandom(df):\n",
        "  for i in range(len(df)):\n",
        "    for j in df.columns:\n",
        "      if df.iloc[i][j] == '#':\n",
        "        df.loc[i,j] = np.random.normal(-94, 3)\n",
        "  df = df.apply(pd.to_numeric)\n",
        "  return df"
      ],
      "execution_count": null,
      "outputs": []
    },
    {
      "cell_type": "code",
      "metadata": {
        "id": "wqoVZY8NMABJ",
        "colab_type": "code",
        "colab": {}
      },
      "source": [
        "for i in range(len(mvg_dist_df)):\n",
        "  mvg_dist_df[i] = fillwithrandom(mvg_dist_df[i])"
      ],
      "execution_count": null,
      "outputs": []
    },
    {
      "cell_type": "markdown",
      "metadata": {
        "id": "nfIKwJ49qOTV",
        "colab_type": "text"
      },
      "source": [
        "### We now need the mean and covariance vector for every dist."
      ]
    },
    {
      "cell_type": "code",
      "metadata": {
        "id": "f-zaVFnPmudn",
        "colab_type": "code",
        "colab": {}
      },
      "source": [
        "mean = []\n",
        "for i in mvg_dist_df:\n",
        "  mean.append(list(i.mean(axis = 0)))"
      ],
      "execution_count": null,
      "outputs": []
    },
    {
      "cell_type": "code",
      "metadata": {
        "id": "QCDPtUYEnGxX",
        "colab_type": "code",
        "colab": {
          "base_uri": "https://localhost:8080/",
          "height": 55
        },
        "outputId": "26c19647-180a-4973-c3b7-c2a0728a9565"
      },
      "source": [
        "print(mean[0])"
      ],
      "execution_count": null,
      "outputs": [
        {
          "output_type": "stream",
          "text": [
            "[-93.9208215561287, -93.9709286033854, -64.60691321505855, -94.15587774236808, -93.7377526380532, -93.98267769559169, -93.76325145644799, -93.128292455751, -94.02183956496762, -94.09008293638068, -93.77850925171047, -94.17831908472152, -60.15, -94.16142109246098, -93.58963094420615, -75.15, -71.08333333333333, -93.13834611373136, -93.18459536804428, -94.04614769713814, -93.52639614283696, -93.6848325918968, -93.92368663159712, -93.75220555237684, -94.15024586986505, -94.10797100398273, -93.46355108161553, -79.98333333333333, -93.22967048820331, -67.21666666666667, -93.81558317769102, -93.84640060026283]\n"
          ],
          "name": "stdout"
        }
      ]
    },
    {
      "cell_type": "code",
      "metadata": {
        "id": "Zb7OK4-GwtPq",
        "colab_type": "code",
        "colab": {}
      },
      "source": [
        "cov = []\n",
        "for i in mvg_dist_df:\n",
        "  cov.append(i.cov().to_numpy())"
      ],
      "execution_count": null,
      "outputs": []
    },
    {
      "cell_type": "code",
      "metadata": {
        "id": "6IEFrXetx0Bd",
        "colab_type": "code",
        "colab": {}
      },
      "source": [
        "#cov[0]"
      ],
      "execution_count": null,
      "outputs": []
    },
    {
      "cell_type": "markdown",
      "metadata": {
        "id": "6Fg7Gu7pfnDE",
        "colab_type": "text"
      },
      "source": [
        "### Checking if any covariance matrix is singular"
      ]
    },
    {
      "cell_type": "code",
      "metadata": {
        "id": "b5yx3h6BfmMI",
        "colab_type": "code",
        "colab": {}
      },
      "source": [
        "singular_matrix = []\n",
        "for i in range(len(cov)):\n",
        "  if np.linalg.det(cov[i]) == 0:\n",
        "    singular_matrix.append(i)"
      ],
      "execution_count": null,
      "outputs": []
    },
    {
      "cell_type": "markdown",
      "metadata": {
        "id": "ejM1qBS8h-IN",
        "colab_type": "text"
      },
      "source": [
        "### Sampling the columns from a gaussian dist. that have a std dev. of 0.5"
      ]
    },
    {
      "cell_type": "code",
      "metadata": {
        "id": "r6yrryjxh9ey",
        "colab_type": "code",
        "colab": {}
      },
      "source": [
        "for i in singular_matrix:\n",
        "  for j in mvg_dist_df[i].columns:\n",
        "    mvg_dist_df[i].loc[:,j] = np.random.normal(mean[i][j], 0.5, len(mvg_dist_df[i].loc[:,j]))"
      ],
      "execution_count": null,
      "outputs": []
    },
    {
      "cell_type": "markdown",
      "metadata": {
        "id": "679yxDxzk-Mw",
        "colab_type": "text"
      },
      "source": [
        "### Recalculating Mean and Covariance"
      ]
    },
    {
      "cell_type": "code",
      "metadata": {
        "id": "D64GTpvekxrJ",
        "colab_type": "code",
        "colab": {}
      },
      "source": [
        "mean = []\n",
        "for i in mvg_dist_df:\n",
        "  mean.append(np.mat(i.mean(axis = 0)))\n",
        "\n",
        "cov = []\n",
        "for i in mvg_dist_df:\n",
        "  cov.append(np.mat(i.cov()))\n"
      ],
      "execution_count": null,
      "outputs": []
    },
    {
      "cell_type": "code",
      "metadata": {
        "id": "jalO03OyzkG2",
        "colab_type": "code",
        "colab": {
          "base_uri": "https://localhost:8080/",
          "height": 35
        },
        "outputId": "305922b1-fb70-429e-c0ce-4f2008ff4ae7"
      },
      "source": [
        "cov[0].shape"
      ],
      "execution_count": null,
      "outputs": [
        {
          "output_type": "execute_result",
          "data": {
            "text/plain": [
              "(32, 32)"
            ]
          },
          "metadata": {
            "tags": []
          },
          "execution_count": 60
        }
      ]
    },
    {
      "cell_type": "code",
      "metadata": {
        "id": "YM1DiKHske4X",
        "colab_type": "code",
        "colab": {
          "base_uri": "https://localhost:8080/",
          "height": 214
        },
        "outputId": "ceced676-ae04-4bc7-9d0d-497ba97f65bc"
      },
      "source": [
        "mvg_dist_df[0].head()"
      ],
      "execution_count": null,
      "outputs": [
        {
          "output_type": "execute_result",
          "data": {
            "text/html": [
              "<div>\n",
              "<style scoped>\n",
              "    .dataframe tbody tr th:only-of-type {\n",
              "        vertical-align: middle;\n",
              "    }\n",
              "\n",
              "    .dataframe tbody tr th {\n",
              "        vertical-align: top;\n",
              "    }\n",
              "\n",
              "    .dataframe thead th {\n",
              "        text-align: right;\n",
              "    }\n",
              "</style>\n",
              "<table border=\"1\" class=\"dataframe\">\n",
              "  <thead>\n",
              "    <tr style=\"text-align: right;\">\n",
              "      <th></th>\n",
              "      <th>0</th>\n",
              "      <th>1</th>\n",
              "      <th>2</th>\n",
              "      <th>3</th>\n",
              "      <th>4</th>\n",
              "      <th>5</th>\n",
              "      <th>6</th>\n",
              "      <th>7</th>\n",
              "      <th>8</th>\n",
              "      <th>9</th>\n",
              "      <th>10</th>\n",
              "      <th>11</th>\n",
              "      <th>12</th>\n",
              "      <th>13</th>\n",
              "      <th>14</th>\n",
              "      <th>15</th>\n",
              "      <th>16</th>\n",
              "      <th>17</th>\n",
              "      <th>18</th>\n",
              "      <th>19</th>\n",
              "      <th>20</th>\n",
              "      <th>21</th>\n",
              "      <th>22</th>\n",
              "      <th>23</th>\n",
              "      <th>24</th>\n",
              "      <th>25</th>\n",
              "      <th>26</th>\n",
              "      <th>27</th>\n",
              "      <th>28</th>\n",
              "      <th>29</th>\n",
              "      <th>30</th>\n",
              "      <th>31</th>\n",
              "    </tr>\n",
              "  </thead>\n",
              "  <tbody>\n",
              "    <tr>\n",
              "      <th>0</th>\n",
              "      <td>-92.509858</td>\n",
              "      <td>-74.000000</td>\n",
              "      <td>-94.414793</td>\n",
              "      <td>-92.056934</td>\n",
              "      <td>-89.430910</td>\n",
              "      <td>-94.702460</td>\n",
              "      <td>-94.702411</td>\n",
              "      <td>-89.262362</td>\n",
              "      <td>-91.697696</td>\n",
              "      <td>-95.408423</td>\n",
              "      <td>-92.372320</td>\n",
              "      <td>-95.390253</td>\n",
              "      <td>-61</td>\n",
              "      <td>-95.397189</td>\n",
              "      <td>-93.274113</td>\n",
              "      <td>-81</td>\n",
              "      <td>-74</td>\n",
              "      <td>-99.739841</td>\n",
              "      <td>-68.000000</td>\n",
              "      <td>-99.174753</td>\n",
              "      <td>-95.686863</td>\n",
              "      <td>-97.038493</td>\n",
              "      <td>-93.057258</td>\n",
              "      <td>-96.724072</td>\n",
              "      <td>-75.000000</td>\n",
              "      <td>-77.000000</td>\n",
              "      <td>-98.236911</td>\n",
              "      <td>-79</td>\n",
              "      <td>-74.000000</td>\n",
              "      <td>-75</td>\n",
              "      <td>-73.000000</td>\n",
              "      <td>-89.603054</td>\n",
              "    </tr>\n",
              "    <tr>\n",
              "      <th>1</th>\n",
              "      <td>-94.677329</td>\n",
              "      <td>-93.797415</td>\n",
              "      <td>-70.000000</td>\n",
              "      <td>-98.274245</td>\n",
              "      <td>-95.633148</td>\n",
              "      <td>-93.667232</td>\n",
              "      <td>-97.452981</td>\n",
              "      <td>-92.872906</td>\n",
              "      <td>-95.801916</td>\n",
              "      <td>-94.875081</td>\n",
              "      <td>-95.805120</td>\n",
              "      <td>-88.443165</td>\n",
              "      <td>-63</td>\n",
              "      <td>-94.040492</td>\n",
              "      <td>-97.173133</td>\n",
              "      <td>-78</td>\n",
              "      <td>-73</td>\n",
              "      <td>-91.532365</td>\n",
              "      <td>-97.662531</td>\n",
              "      <td>-93.373409</td>\n",
              "      <td>-99.879010</td>\n",
              "      <td>-97.984558</td>\n",
              "      <td>-93.409416</td>\n",
              "      <td>-91.784600</td>\n",
              "      <td>-93.485895</td>\n",
              "      <td>-94.346945</td>\n",
              "      <td>-94.903311</td>\n",
              "      <td>-80</td>\n",
              "      <td>-98.435566</td>\n",
              "      <td>-72</td>\n",
              "      <td>-96.159533</td>\n",
              "      <td>-95.381916</td>\n",
              "    </tr>\n",
              "    <tr>\n",
              "      <th>2</th>\n",
              "      <td>-90.828633</td>\n",
              "      <td>-92.969145</td>\n",
              "      <td>-64.000000</td>\n",
              "      <td>-99.289120</td>\n",
              "      <td>-93.027748</td>\n",
              "      <td>-95.155247</td>\n",
              "      <td>-96.030766</td>\n",
              "      <td>-92.164971</td>\n",
              "      <td>-90.907001</td>\n",
              "      <td>-91.206160</td>\n",
              "      <td>-96.517653</td>\n",
              "      <td>-94.927637</td>\n",
              "      <td>-65</td>\n",
              "      <td>-93.006210</td>\n",
              "      <td>-91.073365</td>\n",
              "      <td>-75</td>\n",
              "      <td>-71</td>\n",
              "      <td>-95.437523</td>\n",
              "      <td>-94.556977</td>\n",
              "      <td>-97.319005</td>\n",
              "      <td>-97.588620</td>\n",
              "      <td>-91.562423</td>\n",
              "      <td>-89.931280</td>\n",
              "      <td>-94.216030</td>\n",
              "      <td>-90.989401</td>\n",
              "      <td>-92.915092</td>\n",
              "      <td>-95.935359</td>\n",
              "      <td>-80</td>\n",
              "      <td>-92.915813</td>\n",
              "      <td>-67</td>\n",
              "      <td>-89.385890</td>\n",
              "      <td>-94.107478</td>\n",
              "    </tr>\n",
              "    <tr>\n",
              "      <th>3</th>\n",
              "      <td>-89.306069</td>\n",
              "      <td>-101.859235</td>\n",
              "      <td>-64.000000</td>\n",
              "      <td>-91.534292</td>\n",
              "      <td>-93.738859</td>\n",
              "      <td>-94.897022</td>\n",
              "      <td>-93.724718</td>\n",
              "      <td>-99.962707</td>\n",
              "      <td>-94.659016</td>\n",
              "      <td>-92.928662</td>\n",
              "      <td>-89.566318</td>\n",
              "      <td>-95.554811</td>\n",
              "      <td>-60</td>\n",
              "      <td>-96.425481</td>\n",
              "      <td>-95.505271</td>\n",
              "      <td>-75</td>\n",
              "      <td>-71</td>\n",
              "      <td>-91.253794</td>\n",
              "      <td>-93.013747</td>\n",
              "      <td>-95.589281</td>\n",
              "      <td>-92.460198</td>\n",
              "      <td>-93.708767</td>\n",
              "      <td>-91.094065</td>\n",
              "      <td>-96.106159</td>\n",
              "      <td>-94.982986</td>\n",
              "      <td>-95.176324</td>\n",
              "      <td>-98.390545</td>\n",
              "      <td>-80</td>\n",
              "      <td>-93.111639</td>\n",
              "      <td>-67</td>\n",
              "      <td>-93.216834</td>\n",
              "      <td>-93.984660</td>\n",
              "    </tr>\n",
              "    <tr>\n",
              "      <th>4</th>\n",
              "      <td>-94.703761</td>\n",
              "      <td>-98.246112</td>\n",
              "      <td>-64.000000</td>\n",
              "      <td>-95.261936</td>\n",
              "      <td>-95.028144</td>\n",
              "      <td>-96.406832</td>\n",
              "      <td>-94.483857</td>\n",
              "      <td>-92.787847</td>\n",
              "      <td>-88.341442</td>\n",
              "      <td>-93.476267</td>\n",
              "      <td>-93.227349</td>\n",
              "      <td>-94.223338</td>\n",
              "      <td>-60</td>\n",
              "      <td>-99.756314</td>\n",
              "      <td>-94.079542</td>\n",
              "      <td>-75</td>\n",
              "      <td>-71</td>\n",
              "      <td>-93.819309</td>\n",
              "      <td>-86.610274</td>\n",
              "      <td>-94.577083</td>\n",
              "      <td>-93.095358</td>\n",
              "      <td>-94.104135</td>\n",
              "      <td>-97.506034</td>\n",
              "      <td>-90.571532</td>\n",
              "      <td>-91.744201</td>\n",
              "      <td>-91.626904</td>\n",
              "      <td>-96.728162</td>\n",
              "      <td>-80</td>\n",
              "      <td>-89.791617</td>\n",
              "      <td>-67</td>\n",
              "      <td>-98.205553</td>\n",
              "      <td>-92.239429</td>\n",
              "    </tr>\n",
              "  </tbody>\n",
              "</table>\n",
              "</div>"
            ],
            "text/plain": [
              "          0           1          2   ...  29         30         31\n",
              "0 -92.509858  -74.000000 -94.414793  ... -75 -73.000000 -89.603054\n",
              "1 -94.677329  -93.797415 -70.000000  ... -72 -96.159533 -95.381916\n",
              "2 -90.828633  -92.969145 -64.000000  ... -67 -89.385890 -94.107478\n",
              "3 -89.306069 -101.859235 -64.000000  ... -67 -93.216834 -93.984660\n",
              "4 -94.703761  -98.246112 -64.000000  ... -67 -98.205553 -92.239429\n",
              "\n",
              "[5 rows x 32 columns]"
            ]
          },
          "metadata": {
            "tags": []
          },
          "execution_count": 61
        }
      ]
    },
    {
      "cell_type": "code",
      "metadata": {
        "id": "nkC5t771kRif",
        "colab_type": "code",
        "colab": {}
      },
      "source": [
        "for i in range(len(cov)):\n",
        "  if np.linalg.det(cov[i]) == 0:\n",
        "    print(i)"
      ],
      "execution_count": null,
      "outputs": []
    },
    {
      "cell_type": "markdown",
      "metadata": {
        "id": "19FTP50M1sV9",
        "colab_type": "text"
      },
      "source": [
        "### Keeping _2 as test and _1, _4 as train"
      ]
    },
    {
      "cell_type": "code",
      "metadata": {
        "id": "me59TKL4zxRe",
        "colab_type": "code",
        "colab": {
          "base_uri": "https://localhost:8080/",
          "height": 70
        },
        "outputId": "08881649-f5e8-4c6c-f6d9-c4135d0699d5"
      },
      "source": [
        "test = []\n",
        "train = []\n",
        "test2=[]\n",
        "\n",
        "for i in range(len(mvg_dist_df)):\n",
        "  if names[i][-2:] == '_2':\n",
        "    test.append(i)\n",
        "  elif names[i][-2:] == '_1' or names[i][-2:] == '_4':\n",
        "    train.append(i)\n",
        "  else:\n",
        "    test2.append(i)\n",
        "print(len(train))\n",
        "print(len(test))\n",
        "print(len(test2))"
      ],
      "execution_count": null,
      "outputs": [
        {
          "output_type": "stream",
          "text": [
            "48\n",
            "24\n",
            "24\n"
          ],
          "name": "stdout"
        }
      ]
    },
    {
      "cell_type": "code",
      "metadata": {
        "id": "SuppWqDEy60x",
        "colab_type": "code",
        "colab": {}
      },
      "source": [
        "#train[0]"
      ],
      "execution_count": null,
      "outputs": []
    },
    {
      "cell_type": "markdown",
      "metadata": {
        "id": "uISnaYlK27Lh",
        "colab_type": "text"
      },
      "source": [
        "![Reference: Wikipedia](https://wikimedia.org/api/rest_v1/media/math/render/svg/ccec30a0eb27534d7c859ec72a2b07a14ec0d965)"
      ]
    },
    {
      "cell_type": "code",
      "metadata": {
        "id": "E0DLGq104IXp",
        "colab_type": "code",
        "colab": {}
      },
      "source": [
        "def trace(mat):\n",
        "  return mat.trace()"
      ],
      "execution_count": null,
      "outputs": []
    },
    {
      "cell_type": "code",
      "metadata": {
        "id": "1yGx9he85R6G",
        "colab_type": "code",
        "colab": {}
      },
      "source": [
        "def inverse(mat):\n",
        "  return np.linalg.pinv(mat)"
      ],
      "execution_count": null,
      "outputs": []
    },
    {
      "cell_type": "code",
      "metadata": {
        "id": "t0tFpPMloEYZ",
        "colab_type": "code",
        "colab": {}
      },
      "source": [
        "def transpose(mat):\n",
        "  return mat.T"
      ],
      "execution_count": null,
      "outputs": []
    },
    {
      "cell_type": "code",
      "metadata": {
        "id": "BMM0xQIk2W4m",
        "colab_type": "code",
        "colab": {}
      },
      "source": [
        "def KL_dist(m0, m1): \n",
        "                    #0 - test, 1 - train\n",
        "  diff = mean[m1] - mean[m0]\n",
        "  #print(diff.shape)\n",
        "  a = np.trace(inverse(cov[m1]) @ cov[m0])\n",
        "  b = diff @ inverse(cov[m1]) @ diff.T\n",
        "  c = np.log(np.linalg.det(cov[m1])/np.linalg.det(cov[m0]))\n",
        "  k = mean[m0].shape[1]\n",
        "  return 0.5*(a + np.linalg.det(b) - k + c)\n",
        "  #return k\n",
        "  #return np.subtract(mean[m1] , mean[m0]).shape# inverse(cov[m1])).shape"
      ],
      "execution_count": null,
      "outputs": []
    },
    {
      "cell_type": "code",
      "metadata": {
        "id": "hxTbZU5ZRh0g",
        "colab_type": "code",
        "colab": {}
      },
      "source": [
        "#KL_dist(1,2)"
      ],
      "execution_count": null,
      "outputs": []
    },
    {
      "cell_type": "code",
      "metadata": {
        "id": "WMcesC7PpSX0",
        "colab_type": "code",
        "colab": {}
      },
      "source": [
        "test_result = pd.DataFrame(columns = ['Original', 'Predicted'])\n",
        "for j in range(len(test)):\n",
        "  test_result.loc[j] = pd.Series({'Original' : names[test[j]][:-2]})"
      ],
      "execution_count": null,
      "outputs": []
    },
    {
      "cell_type": "code",
      "metadata": {
        "id": "buv7FRqnpURn",
        "colab_type": "code",
        "colab": {}
      },
      "source": [
        "for i in range(len(test)):\n",
        "  position = 0\n",
        "  distance = np.inf\n",
        "  for j in range(len(train)):\n",
        "    ans = KL_dist(test[i],train[j])\n",
        "    if(ans < distance):\n",
        "      distance = ans\n",
        "      position = names[train[j]][:-2]\n",
        "  test_result.loc[i]['Predicted'] = position"
      ],
      "execution_count": null,
      "outputs": []
    },
    {
      "cell_type": "code",
      "metadata": {
        "id": "PcFCiUDj7gIG",
        "colab_type": "code",
        "colab": {
          "base_uri": "https://localhost:8080/",
          "height": 751
        },
        "outputId": "0c755b0e-6527-41cb-f11e-de86aee2dbde"
      },
      "source": [
        "test_result"
      ],
      "execution_count": null,
      "outputs": [
        {
          "output_type": "execute_result",
          "data": {
            "text/html": [
              "<div>\n",
              "<style scoped>\n",
              "    .dataframe tbody tr th:only-of-type {\n",
              "        vertical-align: middle;\n",
              "    }\n",
              "\n",
              "    .dataframe tbody tr th {\n",
              "        vertical-align: top;\n",
              "    }\n",
              "\n",
              "    .dataframe thead th {\n",
              "        text-align: right;\n",
              "    }\n",
              "</style>\n",
              "<table border=\"1\" class=\"dataframe\">\n",
              "  <thead>\n",
              "    <tr style=\"text-align: right;\">\n",
              "      <th></th>\n",
              "      <th>Original</th>\n",
              "      <th>Predicted</th>\n",
              "    </tr>\n",
              "  </thead>\n",
              "  <tbody>\n",
              "    <tr>\n",
              "      <th>0</th>\n",
              "      <td>D267</td>\n",
              "      <td>D266</td>\n",
              "    </tr>\n",
              "    <tr>\n",
              "      <th>1</th>\n",
              "      <td>D250</td>\n",
              "      <td>D250</td>\n",
              "    </tr>\n",
              "    <tr>\n",
              "      <th>2</th>\n",
              "      <td>D262</td>\n",
              "      <td>D258</td>\n",
              "    </tr>\n",
              "    <tr>\n",
              "      <th>3</th>\n",
              "      <td>D168</td>\n",
              "      <td>D164</td>\n",
              "    </tr>\n",
              "    <tr>\n",
              "      <th>4</th>\n",
              "      <td>D269</td>\n",
              "      <td>D266</td>\n",
              "    </tr>\n",
              "    <tr>\n",
              "      <th>5</th>\n",
              "      <td>D160</td>\n",
              "      <td>D160</td>\n",
              "    </tr>\n",
              "    <tr>\n",
              "      <th>6</th>\n",
              "      <td>StairF</td>\n",
              "      <td>StairF</td>\n",
              "    </tr>\n",
              "    <tr>\n",
              "      <th>7</th>\n",
              "      <td>WF</td>\n",
              "      <td>WF</td>\n",
              "    </tr>\n",
              "    <tr>\n",
              "      <th>8</th>\n",
              "      <td>D251</td>\n",
              "      <td>D251</td>\n",
              "    </tr>\n",
              "    <tr>\n",
              "      <th>9</th>\n",
              "      <td>D154</td>\n",
              "      <td>D154</td>\n",
              "    </tr>\n",
              "    <tr>\n",
              "      <th>10</th>\n",
              "      <td>EntranceF</td>\n",
              "      <td>EntranceF</td>\n",
              "    </tr>\n",
              "    <tr>\n",
              "      <th>11</th>\n",
              "      <td>D249</td>\n",
              "      <td>D249</td>\n",
              "    </tr>\n",
              "    <tr>\n",
              "      <th>12</th>\n",
              "      <td>D156</td>\n",
              "      <td>D156</td>\n",
              "    </tr>\n",
              "    <tr>\n",
              "      <th>13</th>\n",
              "      <td>D252</td>\n",
              "      <td>D258</td>\n",
              "    </tr>\n",
              "    <tr>\n",
              "      <th>14</th>\n",
              "      <td>WG</td>\n",
              "      <td>WG</td>\n",
              "    </tr>\n",
              "    <tr>\n",
              "      <th>15</th>\n",
              "      <td>D266</td>\n",
              "      <td>D266</td>\n",
              "    </tr>\n",
              "    <tr>\n",
              "      <th>16</th>\n",
              "      <td>D164</td>\n",
              "      <td>D164</td>\n",
              "    </tr>\n",
              "    <tr>\n",
              "      <th>17</th>\n",
              "      <td>D153</td>\n",
              "      <td>D153</td>\n",
              "    </tr>\n",
              "    <tr>\n",
              "      <th>18</th>\n",
              "      <td>EEEG</td>\n",
              "      <td>EEEG</td>\n",
              "    </tr>\n",
              "    <tr>\n",
              "      <th>19</th>\n",
              "      <td>D170</td>\n",
              "      <td>D170</td>\n",
              "    </tr>\n",
              "    <tr>\n",
              "      <th>20</th>\n",
              "      <td>StairG</td>\n",
              "      <td>D154</td>\n",
              "    </tr>\n",
              "    <tr>\n",
              "      <th>21</th>\n",
              "      <td>D151</td>\n",
              "      <td>D153</td>\n",
              "    </tr>\n",
              "    <tr>\n",
              "      <th>22</th>\n",
              "      <td>D258</td>\n",
              "      <td>D258</td>\n",
              "    </tr>\n",
              "    <tr>\n",
              "      <th>23</th>\n",
              "      <td>EntranceG</td>\n",
              "      <td>EntranceG</td>\n",
              "    </tr>\n",
              "  </tbody>\n",
              "</table>\n",
              "</div>"
            ],
            "text/plain": [
              "     Original  Predicted\n",
              "0        D267       D266\n",
              "1        D250       D250\n",
              "2        D262       D258\n",
              "3        D168       D164\n",
              "4        D269       D266\n",
              "5        D160       D160\n",
              "6      StairF     StairF\n",
              "7          WF         WF\n",
              "8        D251       D251\n",
              "9        D154       D154\n",
              "10  EntranceF  EntranceF\n",
              "11       D249       D249\n",
              "12       D156       D156\n",
              "13       D252       D258\n",
              "14         WG         WG\n",
              "15       D266       D266\n",
              "16       D164       D164\n",
              "17       D153       D153\n",
              "18       EEEG       EEEG\n",
              "19       D170       D170\n",
              "20     StairG       D154\n",
              "21       D151       D153\n",
              "22       D258       D258\n",
              "23  EntranceG  EntranceG"
            ]
          },
          "metadata": {
            "tags": []
          },
          "execution_count": 72
        }
      ]
    },
    {
      "cell_type": "code",
      "metadata": {
        "id": "I7FuJvl8I7L_",
        "colab_type": "code",
        "colab": {
          "base_uri": "https://localhost:8080/",
          "height": 35
        },
        "outputId": "09aa7b1a-91cf-4ec4-fb40-71afec2bd2b5"
      },
      "source": [
        "def match_adjacent(original_position, predicted_position):\n",
        "  if (original_position=='WG' and (predicted_position == 'EntranceG' or predicted_position == 'D151')):\n",
        "    return True\n",
        "  elif (original_position=='D151' and (predicted_position == 'WG' or predicted_position == 'D153')):\n",
        "    return True\n",
        "  elif (original_position=='D153' and (predicted_position == 'D151' or predicted_position == 'D154')):\n",
        "    return True\n",
        "  elif (original_position=='D154' and (predicted_position == 'D153' or predicted_position == 'EEEG')):\n",
        "    return True\n",
        "  elif (original_position=='EEEG' and (predicted_position == 'D154' or predicted_position == 'StairG')):\n",
        "    return True\n",
        "  elif (original_position=='StairG' and (predicted_position == 'EEEG' or predicted_position == 'D156')):\n",
        "    return True\n",
        "  elif (original_position=='D156' and (predicted_position == 'StairG' or predicted_position == 'D160')):\n",
        "    return True\n",
        "  elif (original_position=='D160' and (predicted_position == 'D156' or predicted_position == 'D164')):\n",
        "    return True\n",
        "  elif (original_position=='D164' and (predicted_position == 'D160' or predicted_position == 'D168')):\n",
        "    return True\n",
        "  elif (original_position=='D168' and (predicted_position == 'D164' or predicted_position == 'D170')):\n",
        "    return True\n",
        "  elif (original_position=='D170' and (predicted_position == 'D168' or predicted_position == 'EntranceG')):\n",
        "    return True\n",
        "  elif (original_position=='EntranceG' and (predicted_position == 'D170' or predicted_position == 'WG')):\n",
        "    return True\n",
        "\n",
        "  elif (original_position=='EntranceF' and (predicted_position == 'WF' or predicted_position == 'D252')):\n",
        "    return True\n",
        "  elif (original_position=='WF' and (predicted_position == 'EntranceF' or predicted_position == 'D251')):\n",
        "    return True\n",
        "  elif (original_position=='D251' and (predicted_position == 'WF' or predicted_position == 'D250')):\n",
        "    return True\n",
        "  elif (original_position=='D250' and (predicted_position == 'D251' or predicted_position == 'D249')):\n",
        "    return True\n",
        "  elif (original_position=='D249' and (predicted_position == 'D250' or predicted_position == 'StairF')):\n",
        "    return True\n",
        "  elif (original_position=='StairF' and (predicted_position == 'D249' or predicted_position == 'D267')):\n",
        "    return True\n",
        "  elif (original_position=='D267' and (predicted_position == 'StairF' or predicted_position == 'D269' or predicted_position == 'D266')):\n",
        "    return True\n",
        "  elif (original_position=='D269' and (predicted_position == 'D267' or predicted_position == 'D266')):\n",
        "    return True\n",
        "  elif (original_position=='D266' and (predicted_position == 'D267' or predicted_position == 'D269' or predicted_position == 'D262')):\n",
        "    return True\n",
        "  elif (original_position=='D262' and (predicted_position == 'D266' or predicted_position == 'D258')):\n",
        "    return True\n",
        "  elif (original_position=='D258' and (predicted_position == 'D262' or predicted_position == 'D252')):\n",
        "    return True\n",
        "  elif (original_position=='D252' and (predicted_position == 'D258' or predicted_position == 'EntranceF')):\n",
        "    return True\n",
        "  else:\n",
        "    return False\n",
        "\n",
        "def relaxed_accuracy_score(df):\n",
        "  sum_ans = 0\n",
        "  for i in range(len(df)):\n",
        "    if df['Original'][i] == df['Predicted'][i]:     #Original == Predicted exactly\n",
        "      sum_ans = sum_ans + 1\n",
        "    elif match_adjacent(df['Original'][i],(df['Predicted'][i])): #adjacent positions with lesser weights\n",
        "      sum_ans = sum_ans + 0.5\n",
        "    else:\n",
        "      continue\n",
        "  \n",
        "\n",
        "  return sum_ans/(len(df))\n",
        "\n",
        "relaxed_accuracy_score(test_result)"
      ],
      "execution_count": null,
      "outputs": [
        {
          "output_type": "execute_result",
          "data": {
            "text/plain": [
              "0.8333333333333334"
            ]
          },
          "metadata": {
            "tags": []
          },
          "execution_count": 73
        }
      ]
    },
    {
      "cell_type": "code",
      "metadata": {
        "id": "qfR-GNgiJZ1C",
        "colab_type": "code",
        "colab": {
          "base_uri": "https://localhost:8080/",
          "height": 35
        },
        "outputId": "71c8ab66-0a99-49a5-f11c-8034460eb567"
      },
      "source": [
        "def exact_accuracy_score(predicted):\n",
        "  sum_ans = 0\n",
        "  for i in range(len(predicted)):\n",
        "    if predicted['Original'][i] == predicted['Predicted'][i]:     #Original == Predicted exactly\n",
        "      sum_ans = sum_ans + 1\n",
        "  return sum_ans/(len(predicted))\n",
        "\n",
        "exact_accuracy_score(test_result)"
      ],
      "execution_count": null,
      "outputs": [
        {
          "output_type": "execute_result",
          "data": {
            "text/plain": [
              "0.7083333333333334"
            ]
          },
          "metadata": {
            "tags": []
          },
          "execution_count": 74
        }
      ]
    },
    {
      "cell_type": "markdown",
      "metadata": {
        "id": "hO3V8C5h6NC9",
        "colab_type": "text"
      },
      "source": [
        "###Multivariate Gaussian Distribution with Device calibrated values"
      ]
    },
    {
      "cell_type": "code",
      "metadata": {
        "id": "DLp1t71rKQ3W",
        "colab_type": "code",
        "colab": {
          "base_uri": "https://localhost:8080/",
          "height": 36
        },
        "outputId": "98e880de-37f6-4860-f5d3-0d8ce04c8ba7"
      },
      "source": [
        "import statistics\n",
        "rssi_1 = []\n",
        "rssi_2 =[]\n",
        "rssi_4 = []\n",
        "\n",
        "def normalise_dataframe():\n",
        "  for i in range(len(dataframes)):\n",
        "    if names[i][-2:]=='_3':\n",
        "      continue  #Not considering this device due to avoid Android Throttling consequences\n",
        "    for j in range(len(dataframes[i])):\n",
        "      if names[i][-2:]=='_1':\n",
        "        rssi_1.append(dataframes[i].loc[j,'Strength'])\n",
        "      if names[i][-2:]=='_2':\n",
        "        rssi_2.append(dataframes[i].loc[j,'Strength'])\n",
        "      if names[i][-2:]=='_4':\n",
        "        rssi_4.append(dataframes[i].loc[j,'Strength'])\n",
        "  mean_1=statistics.mean(rssi_1)\n",
        "  mean_2=statistics.mean(rssi_2)\n",
        "  mean_4=statistics.mean(rssi_4)\n",
        "  stddev_1 = statistics.stdev (rssi_1)\n",
        "  stddev_2 = statistics.stdev(rssi_2)\n",
        "  stddev_4 = statistics.stdev(rssi_4)\n",
        "  print(mean_1, mean_2, mean_4, stddev_1, stddev_2, stddev_4)\n",
        "  for i in range(len(dataframes)):\n",
        "    for j in range(len(dataframes[i])):\n",
        "      #print(\"Reached\" + str(j))\n",
        "      if names[i][-2:]=='_1':\n",
        "        dataframes[i].loc[j,'Strength'] = ((dataframes[i].loc[j,'Strength'] - mean_1 )/(stddev_1) )\n",
        "      if names[i][-2:]=='_2':\n",
        "        dataframes[i].loc[j,'Strength'] = ((dataframes[i].loc[j,'Strength'] - mean_2 )/(stddev_2) )\n",
        "      if names[i][-2:]=='_4':\n",
        "        dataframes[i].loc[j,'Strength'] = ((dataframes[i].loc[j,'Strength'] - mean_4 )/(stddev_4) )\n",
        "\n",
        "normalise_dataframe()"
      ],
      "execution_count": null,
      "outputs": [
        {
          "output_type": "stream",
          "text": [
            "-74 -66 -64 9.591663046625438 12.288205727444508 11.789826122551595\n"
          ],
          "name": "stdout"
        }
      ]
    },
    {
      "cell_type": "code",
      "metadata": {
        "id": "Ofg-GuGb_Gcc",
        "colab_type": "code",
        "colab": {
          "base_uri": "https://localhost:8080/",
          "height": 858
        },
        "outputId": "ad290956-f798-480d-9d0c-639c6dcc4e9c"
      },
      "source": [
        "mvg_dist_df = []\n",
        "for j in range(len(dataframes)):\n",
        "  mvg_dist = []\n",
        "  timestamps_seen = []\n",
        "  for i in range(len(dataframes[j])):\n",
        "    timestamp = dataframes[j].iloc[i]['Time Stamp']\n",
        "    if timestamp not in timestamps_seen:\n",
        "      timestamps_seen.append(timestamp)\n",
        "      scan = ['#']*32\n",
        "      scan[Dict[dataframes[j].iloc[i]['BSSID']]] = dataframes[j].iloc[i]['Strength']\n",
        "      mvg_dist.append(scan)\n",
        "    else:\n",
        "      mvg_dist[timestamps_seen.index(timestamp)][Dict[dataframes[j].iloc[i]['BSSID']] -1] = dataframes[j].iloc[i]['Strength']\n",
        "  mvg_dist_df.append(pd.DataFrame(mvg_dist))\n",
        "\n",
        "\n",
        "np.random.seed(42)\n",
        "def fillwithrandom(df):\n",
        "  for i in range(len(df)):\n",
        "    for j in df.columns:\n",
        "      if df.iloc[i][j] == '#':\n",
        "        df.loc[i,j] = np.random.normal(-2, 0.1)\n",
        "  df = df.apply(pd.to_numeric)\n",
        "  return df\n",
        "\n",
        "for i in range(len(mvg_dist_df)):\n",
        "  mvg_dist_df[i] = fillwithrandom(mvg_dist_df[i])\n",
        "\n",
        "mean = []\n",
        "for i in mvg_dist_df:\n",
        "  mean.append(list(i.mean(axis = 0)))\n",
        "\n",
        "cov = []\n",
        "for i in mvg_dist_df:\n",
        "  cov.append(i.cov().to_numpy())\n",
        "\n",
        "singular_matrix = []\n",
        "for i in range(len(cov)):\n",
        "  if np.linalg.det(cov[i]) == 0:\n",
        "    singular_matrix.append(i)\n",
        "\n",
        "for i in singular_matrix:\n",
        "  for j in mvg_dist_df[i].columns:\n",
        "    mvg_dist_df[i].loc[:,j] = np.random.normal(mean[i][j], 0.1, len(mvg_dist_df[i].loc[:,j]))\n",
        "\n",
        "mean = []\n",
        "for i in mvg_dist_df:\n",
        "  mean.append(np.mat(i.mean(axis = 0)))\n",
        "\n",
        "cov = []\n",
        "for i in mvg_dist_df:\n",
        "  cov.append(np.mat(i.cov()))\n",
        "\n",
        "test = []\n",
        "train = []\n",
        "test2=[]\n",
        "\n",
        "for i in range(len(mvg_dist_df)):\n",
        "  if names[i][-2:] == '_2':\n",
        "    test.append(i)\n",
        "  elif names[i][-2:] == '_1' or names[i][-2:] == '_4':\n",
        "    train.append(i)\n",
        "  else:\n",
        "    test2.append(i)\n",
        "print(len(train))\n",
        "print(len(test))\n",
        "print(len(test2))\n",
        "\n",
        "test_result = pd.DataFrame(columns = ['Original', 'Predicted'])\n",
        "for j in range(len(test)):\n",
        "  test_result.loc[j] = pd.Series({'Original' : names[test[j]][:-2]})\n",
        "\n",
        "for i in range(len(test)):\n",
        "  position = 0\n",
        "  distance = np.inf\n",
        "  for j in range(len(train)):\n",
        "    ans = KL_dist(test[i],train[j])\n",
        "    if(ans < distance):\n",
        "      distance = ans\n",
        "      position = names[train[j]][:-2]\n",
        "  test_result.loc[i]['Predicted'] = position\n",
        "\n",
        "\n",
        "test_result"
      ],
      "execution_count": null,
      "outputs": [
        {
          "output_type": "stream",
          "text": [
            "48\n",
            "24\n",
            "24\n"
          ],
          "name": "stdout"
        },
        {
          "output_type": "execute_result",
          "data": {
            "text/html": [
              "<div>\n",
              "<style scoped>\n",
              "    .dataframe tbody tr th:only-of-type {\n",
              "        vertical-align: middle;\n",
              "    }\n",
              "\n",
              "    .dataframe tbody tr th {\n",
              "        vertical-align: top;\n",
              "    }\n",
              "\n",
              "    .dataframe thead th {\n",
              "        text-align: right;\n",
              "    }\n",
              "</style>\n",
              "<table border=\"1\" class=\"dataframe\">\n",
              "  <thead>\n",
              "    <tr style=\"text-align: right;\">\n",
              "      <th></th>\n",
              "      <th>Original</th>\n",
              "      <th>Predicted</th>\n",
              "    </tr>\n",
              "  </thead>\n",
              "  <tbody>\n",
              "    <tr>\n",
              "      <th>0</th>\n",
              "      <td>D267</td>\n",
              "      <td>D267</td>\n",
              "    </tr>\n",
              "    <tr>\n",
              "      <th>1</th>\n",
              "      <td>D250</td>\n",
              "      <td>D250</td>\n",
              "    </tr>\n",
              "    <tr>\n",
              "      <th>2</th>\n",
              "      <td>D262</td>\n",
              "      <td>D258</td>\n",
              "    </tr>\n",
              "    <tr>\n",
              "      <th>3</th>\n",
              "      <td>D168</td>\n",
              "      <td>D168</td>\n",
              "    </tr>\n",
              "    <tr>\n",
              "      <th>4</th>\n",
              "      <td>D269</td>\n",
              "      <td>D269</td>\n",
              "    </tr>\n",
              "    <tr>\n",
              "      <th>5</th>\n",
              "      <td>D160</td>\n",
              "      <td>D160</td>\n",
              "    </tr>\n",
              "    <tr>\n",
              "      <th>6</th>\n",
              "      <td>StairF</td>\n",
              "      <td>StairG</td>\n",
              "    </tr>\n",
              "    <tr>\n",
              "      <th>7</th>\n",
              "      <td>WF</td>\n",
              "      <td>WF</td>\n",
              "    </tr>\n",
              "    <tr>\n",
              "      <th>8</th>\n",
              "      <td>D251</td>\n",
              "      <td>D250</td>\n",
              "    </tr>\n",
              "    <tr>\n",
              "      <th>9</th>\n",
              "      <td>D154</td>\n",
              "      <td>EEEG</td>\n",
              "    </tr>\n",
              "    <tr>\n",
              "      <th>10</th>\n",
              "      <td>EntranceF</td>\n",
              "      <td>D251</td>\n",
              "    </tr>\n",
              "    <tr>\n",
              "      <th>11</th>\n",
              "      <td>D249</td>\n",
              "      <td>D250</td>\n",
              "    </tr>\n",
              "    <tr>\n",
              "      <th>12</th>\n",
              "      <td>D156</td>\n",
              "      <td>D160</td>\n",
              "    </tr>\n",
              "    <tr>\n",
              "      <th>13</th>\n",
              "      <td>D252</td>\n",
              "      <td>D252</td>\n",
              "    </tr>\n",
              "    <tr>\n",
              "      <th>14</th>\n",
              "      <td>WG</td>\n",
              "      <td>WG</td>\n",
              "    </tr>\n",
              "    <tr>\n",
              "      <th>15</th>\n",
              "      <td>D266</td>\n",
              "      <td>D266</td>\n",
              "    </tr>\n",
              "    <tr>\n",
              "      <th>16</th>\n",
              "      <td>D164</td>\n",
              "      <td>D164</td>\n",
              "    </tr>\n",
              "    <tr>\n",
              "      <th>17</th>\n",
              "      <td>D153</td>\n",
              "      <td>D153</td>\n",
              "    </tr>\n",
              "    <tr>\n",
              "      <th>18</th>\n",
              "      <td>EEEG</td>\n",
              "      <td>EEEG</td>\n",
              "    </tr>\n",
              "    <tr>\n",
              "      <th>19</th>\n",
              "      <td>D170</td>\n",
              "      <td>D170</td>\n",
              "    </tr>\n",
              "    <tr>\n",
              "      <th>20</th>\n",
              "      <td>StairG</td>\n",
              "      <td>EEEG</td>\n",
              "    </tr>\n",
              "    <tr>\n",
              "      <th>21</th>\n",
              "      <td>D151</td>\n",
              "      <td>D153</td>\n",
              "    </tr>\n",
              "    <tr>\n",
              "      <th>22</th>\n",
              "      <td>D258</td>\n",
              "      <td>D258</td>\n",
              "    </tr>\n",
              "    <tr>\n",
              "      <th>23</th>\n",
              "      <td>EntranceG</td>\n",
              "      <td>EntranceG</td>\n",
              "    </tr>\n",
              "  </tbody>\n",
              "</table>\n",
              "</div>"
            ],
            "text/plain": [
              "     Original  Predicted\n",
              "0        D267       D267\n",
              "1        D250       D250\n",
              "2        D262       D258\n",
              "3        D168       D168\n",
              "4        D269       D269\n",
              "5        D160       D160\n",
              "6      StairF     StairG\n",
              "7          WF         WF\n",
              "8        D251       D250\n",
              "9        D154       EEEG\n",
              "10  EntranceF       D251\n",
              "11       D249       D250\n",
              "12       D156       D160\n",
              "13       D252       D252\n",
              "14         WG         WG\n",
              "15       D266       D266\n",
              "16       D164       D164\n",
              "17       D153       D153\n",
              "18       EEEG       EEEG\n",
              "19       D170       D170\n",
              "20     StairG       EEEG\n",
              "21       D151       D153\n",
              "22       D258       D258\n",
              "23  EntranceG  EntranceG"
            ]
          },
          "metadata": {
            "tags": []
          },
          "execution_count": 183
        }
      ]
    },
    {
      "cell_type": "code",
      "metadata": {
        "id": "PrqiwEZNcWcJ",
        "colab_type": "code",
        "colab": {
          "base_uri": "https://localhost:8080/",
          "height": 54
        },
        "outputId": "06199cd4-5b0f-4fd5-f375-6a894a6e0129"
      },
      "source": [
        "print(relaxed_accuracy_score(test_result))\n",
        "print(exact_accuracy_score(test_result))"
      ],
      "execution_count": null,
      "outputs": [
        {
          "output_type": "stream",
          "text": [
            "0.7708333333333334\n",
            "0.625\n"
          ],
          "name": "stdout"
        }
      ]
    },
    {
      "cell_type": "code",
      "metadata": {
        "id": "EpCJj-tUeg0R",
        "colab_type": "code",
        "colab": {}
      },
      "source": [
        ""
      ],
      "execution_count": null,
      "outputs": []
    }
  ]
}